{
 "cells": [
  {
   "cell_type": "code",
   "execution_count": 1,
   "metadata": {
    "ExecuteTime": {
     "end_time": "2021-05-04T14:33:53.618332Z",
     "start_time": "2021-05-04T14:33:23.107601Z"
    },
    "colab": {
     "base_uri": "https://localhost:8080/",
     "height": 1000
    },
    "id": "PCVBVj-Xgfpn",
    "outputId": "9e2965f4-d21e-4cbf-93f2-54c3b183dff7"
   },
   "outputs": [
    {
     "name": "stdout",
     "output_type": "stream",
     "text": [
      "Requirement already satisfied: yfinance in c:\\users\\34689\\anaconda3\\lib\\site-packages (0.1.59)\n",
      "Requirement already satisfied: multitasking>=0.0.7 in c:\\users\\34689\\anaconda3\\lib\\site-packages (from yfinance) (0.0.9)\n",
      "Requirement already satisfied: pandas>=0.24 in c:\\users\\34689\\anaconda3\\lib\\site-packages (from yfinance) (1.1.3)\n",
      "Requirement already satisfied: requests>=2.20 in c:\\users\\34689\\anaconda3\\lib\\site-packages (from yfinance) (2.24.0)\n",
      "Requirement already satisfied: lxml>=4.5.1 in c:\\users\\34689\\anaconda3\\lib\\site-packages (from yfinance) (4.6.1)\n",
      "Requirement already satisfied: numpy>=1.15 in c:\\users\\34689\\anaconda3\\lib\\site-packages (from yfinance) (1.19.2)\n",
      "Requirement already satisfied: pytz>=2017.2 in c:\\users\\34689\\anaconda3\\lib\\site-packages (from pandas>=0.24->yfinance) (2020.1)\n",
      "Requirement already satisfied: python-dateutil>=2.7.3 in c:\\users\\34689\\anaconda3\\lib\\site-packages (from pandas>=0.24->yfinance) (2.8.1)\n",
      "Requirement already satisfied: urllib3!=1.25.0,!=1.25.1,<1.26,>=1.21.1 in c:\\users\\34689\\anaconda3\\lib\\site-packages (from requests>=2.20->yfinance) (1.25.11)\n",
      "Requirement already satisfied: certifi>=2017.4.17 in c:\\users\\34689\\anaconda3\\lib\\site-packages (from requests>=2.20->yfinance) (2020.12.5)\n",
      "Requirement already satisfied: idna<3,>=2.5 in c:\\users\\34689\\anaconda3\\lib\\site-packages (from requests>=2.20->yfinance) (2.10)\n",
      "Requirement already satisfied: chardet<4,>=3.0.2 in c:\\users\\34689\\anaconda3\\lib\\site-packages (from requests>=2.20->yfinance) (3.0.4)\n",
      "Requirement already satisfied: six>=1.5 in c:\\users\\34689\\anaconda3\\lib\\site-packages (from python-dateutil>=2.7.3->pandas>=0.24->yfinance) (1.15.0)\n",
      "Requirement already satisfied: keras-models in c:\\users\\34689\\anaconda3\\lib\\site-packages (0.0.7)\n",
      "Requirement already satisfied: spacy in c:\\users\\34689\\anaconda3\\lib\\site-packages (from keras-models) (3.0.5)\n",
      "Requirement already satisfied: Pillow in c:\\users\\34689\\anaconda3\\lib\\site-packages (from keras-models) (8.0.1)\n",
      "Requirement already satisfied: keras in c:\\users\\34689\\anaconda3\\lib\\site-packages (from keras-models) (2.4.3)\n",
      "Requirement already satisfied: numpy in c:\\users\\34689\\anaconda3\\lib\\site-packages (from keras-models) (1.19.2)\n",
      "Requirement already satisfied: pathlib in c:\\users\\34689\\anaconda3\\lib\\site-packages (from keras-models) (1.0.1)\n",
      "Requirement already satisfied: opencv-python in c:\\users\\34689\\anaconda3\\lib\\site-packages (from keras-models) (4.5.1.48)\n",
      "Requirement already satisfied: catalogue<2.1.0,>=2.0.1 in c:\\users\\34689\\anaconda3\\lib\\site-packages (from spacy->keras-models) (2.0.1)\n",
      "Requirement already satisfied: packaging>=20.0 in c:\\users\\34689\\anaconda3\\lib\\site-packages (from spacy->keras-models) (20.4)\n",
      "Requirement already satisfied: blis<0.8.0,>=0.4.0 in c:\\users\\34689\\anaconda3\\lib\\site-packages (from spacy->keras-models) (0.7.4)\n",
      "Requirement already satisfied: typer<0.4.0,>=0.3.0 in c:\\users\\34689\\anaconda3\\lib\\site-packages (from spacy->keras-models) (0.3.2)\n",
      "Requirement already satisfied: jinja2 in c:\\users\\34689\\anaconda3\\lib\\site-packages (from spacy->keras-models) (2.11.2)\n",
      "Requirement already satisfied: cymem<2.1.0,>=2.0.2 in c:\\users\\34689\\anaconda3\\lib\\site-packages (from spacy->keras-models) (2.0.5)\n",
      "Requirement already satisfied: requests<3.0.0,>=2.13.0 in c:\\users\\34689\\anaconda3\\lib\\site-packages (from spacy->keras-models) (2.24.0)\n",
      "Requirement already satisfied: wasabi<1.1.0,>=0.8.1 in c:\\users\\34689\\anaconda3\\lib\\site-packages (from spacy->keras-models) (0.8.2)\n",
      "Requirement already satisfied: pydantic<1.8.0,>=1.7.1 in c:\\users\\34689\\anaconda3\\lib\\site-packages (from spacy->keras-models) (1.7.3)\n",
      "Requirement already satisfied: srsly<3.0.0,>=2.4.0 in c:\\users\\34689\\anaconda3\\lib\\site-packages (from spacy->keras-models) (2.4.0)\n",
      "Requirement already satisfied: murmurhash<1.1.0,>=0.28.0 in c:\\users\\34689\\anaconda3\\lib\\site-packages (from spacy->keras-models) (1.0.5)\n",
      "Requirement already satisfied: thinc<8.1.0,>=8.0.2 in c:\\users\\34689\\anaconda3\\lib\\site-packages (from spacy->keras-models) (8.0.2)\n",
      "Requirement already satisfied: pathy>=0.3.5 in c:\\users\\34689\\anaconda3\\lib\\site-packages (from spacy->keras-models) (0.4.0)\n",
      "Requirement already satisfied: setuptools in c:\\users\\34689\\anaconda3\\lib\\site-packages (from spacy->keras-models) (50.3.1.post20201107)\n",
      "Requirement already satisfied: spacy-legacy<3.1.0,>=3.0.0 in c:\\users\\34689\\anaconda3\\lib\\site-packages (from spacy->keras-models) (3.0.1)\n",
      "Requirement already satisfied: tqdm<5.0.0,>=4.38.0 in c:\\users\\34689\\anaconda3\\lib\\site-packages (from spacy->keras-models) (4.50.2)\n",
      "Requirement already satisfied: preshed<3.1.0,>=3.0.2 in c:\\users\\34689\\anaconda3\\lib\\site-packages (from spacy->keras-models) (3.0.5)\n",
      "Requirement already satisfied: pyyaml in c:\\users\\34689\\anaconda3\\lib\\site-packages (from keras->keras-models) (5.3.1)\n",
      "Requirement already satisfied: h5py in c:\\users\\34689\\anaconda3\\lib\\site-packages (from keras->keras-models) (2.10.0)\n",
      "Requirement already satisfied: scipy>=0.14 in c:\\users\\34689\\anaconda3\\lib\\site-packages (from keras->keras-models) (1.5.2)\n",
      "Requirement already satisfied: pyparsing>=2.0.2 in c:\\users\\34689\\anaconda3\\lib\\site-packages (from packaging>=20.0->spacy->keras-models) (2.4.7)\n",
      "Requirement already satisfied: six in c:\\users\\34689\\anaconda3\\lib\\site-packages (from packaging>=20.0->spacy->keras-models) (1.15.0)\n",
      "Requirement already satisfied: click<7.2.0,>=7.1.1 in c:\\users\\34689\\anaconda3\\lib\\site-packages (from typer<0.4.0,>=0.3.0->spacy->keras-models) (7.1.2)\n",
      "Requirement already satisfied: MarkupSafe>=0.23 in c:\\users\\34689\\anaconda3\\lib\\site-packages (from jinja2->spacy->keras-models) (1.1.1)\n",
      "Requirement already satisfied: certifi>=2017.4.17 in c:\\users\\34689\\anaconda3\\lib\\site-packages (from requests<3.0.0,>=2.13.0->spacy->keras-models) (2020.12.5)\n",
      "Requirement already satisfied: urllib3!=1.25.0,!=1.25.1,<1.26,>=1.21.1 in c:\\users\\34689\\anaconda3\\lib\\site-packages (from requests<3.0.0,>=2.13.0->spacy->keras-models) (1.25.11)\n",
      "Requirement already satisfied: idna<3,>=2.5 in c:\\users\\34689\\anaconda3\\lib\\site-packages (from requests<3.0.0,>=2.13.0->spacy->keras-models) (2.10)\n",
      "Requirement already satisfied: chardet<4,>=3.0.2 in c:\\users\\34689\\anaconda3\\lib\\site-packages (from requests<3.0.0,>=2.13.0->spacy->keras-models) (3.0.4)\n",
      "Requirement already satisfied: smart-open<4.0.0,>=2.2.0 in c:\\users\\34689\\anaconda3\\lib\\site-packages (from pathy>=0.3.5->spacy->keras-models) (3.0.0)\n",
      "Requirement already satisfied: tensorflow in c:\\users\\34689\\anaconda3\\lib\\site-packages (2.4.1)\n",
      "Requirement already satisfied: typing-extensions~=3.7.4 in c:\\users\\34689\\anaconda3\\lib\\site-packages (from tensorflow) (3.7.4.3)\n",
      "Requirement already satisfied: wheel~=0.35 in c:\\users\\34689\\anaconda3\\lib\\site-packages (from tensorflow) (0.35.1)\n",
      "Requirement already satisfied: google-pasta~=0.2 in c:\\users\\34689\\anaconda3\\lib\\site-packages (from tensorflow) (0.2.0)\n",
      "Requirement already satisfied: numpy~=1.19.2 in c:\\users\\34689\\anaconda3\\lib\\site-packages (from tensorflow) (1.19.2)\n",
      "Requirement already satisfied: gast==0.3.3 in c:\\users\\34689\\anaconda3\\lib\\site-packages (from tensorflow) (0.3.3)\n",
      "Requirement already satisfied: absl-py~=0.10 in c:\\users\\34689\\anaconda3\\lib\\site-packages (from tensorflow) (0.12.0)\n",
      "Requirement already satisfied: opt-einsum~=3.3.0 in c:\\users\\34689\\anaconda3\\lib\\site-packages (from tensorflow) (3.3.0)\n",
      "Requirement already satisfied: protobuf>=3.9.2 in c:\\users\\34689\\anaconda3\\lib\\site-packages (from tensorflow) (3.15.6)\n",
      "Requirement already satisfied: termcolor~=1.1.0 in c:\\users\\34689\\anaconda3\\lib\\site-packages (from tensorflow) (1.1.0)\n",
      "Requirement already satisfied: tensorflow-estimator<2.5.0,>=2.4.0 in c:\\users\\34689\\anaconda3\\lib\\site-packages (from tensorflow) (2.4.0)\n",
      "Requirement already satisfied: grpcio~=1.32.0 in c:\\users\\34689\\anaconda3\\lib\\site-packages (from tensorflow) (1.32.0)\n",
      "Requirement already satisfied: wrapt~=1.12.1 in c:\\users\\34689\\anaconda3\\lib\\site-packages (from tensorflow) (1.12.1)\n",
      "Requirement already satisfied: keras-preprocessing~=1.1.2 in c:\\users\\34689\\anaconda3\\lib\\site-packages (from tensorflow) (1.1.2)\n",
      "Requirement already satisfied: astunparse~=1.6.3 in c:\\users\\34689\\anaconda3\\lib\\site-packages (from tensorflow) (1.6.3)\n",
      "Requirement already satisfied: h5py~=2.10.0 in c:\\users\\34689\\anaconda3\\lib\\site-packages (from tensorflow) (2.10.0)\n",
      "Requirement already satisfied: tensorboard~=2.4 in c:\\users\\34689\\anaconda3\\lib\\site-packages (from tensorflow) (2.4.1)\n",
      "Requirement already satisfied: flatbuffers~=1.12.0 in c:\\users\\34689\\anaconda3\\lib\\site-packages (from tensorflow) (1.12)\n",
      "Requirement already satisfied: six~=1.15.0 in c:\\users\\34689\\anaconda3\\lib\\site-packages (from tensorflow) (1.15.0)\n",
      "Requirement already satisfied: requests<3,>=2.21.0 in c:\\users\\34689\\anaconda3\\lib\\site-packages (from tensorboard~=2.4->tensorflow) (2.24.0)\n",
      "Requirement already satisfied: tensorboard-plugin-wit>=1.6.0 in c:\\users\\34689\\anaconda3\\lib\\site-packages (from tensorboard~=2.4->tensorflow) (1.8.0)\n",
      "Requirement already satisfied: google-auth-oauthlib<0.5,>=0.4.1 in c:\\users\\34689\\anaconda3\\lib\\site-packages (from tensorboard~=2.4->tensorflow) (0.4.3)\n",
      "Requirement already satisfied: werkzeug>=0.11.15 in c:\\users\\34689\\anaconda3\\lib\\site-packages (from tensorboard~=2.4->tensorflow) (1.0.1)\n",
      "Requirement already satisfied: setuptools>=41.0.0 in c:\\users\\34689\\anaconda3\\lib\\site-packages (from tensorboard~=2.4->tensorflow) (50.3.1.post20201107)\n",
      "Requirement already satisfied: google-auth<2,>=1.6.3 in c:\\users\\34689\\anaconda3\\lib\\site-packages (from tensorboard~=2.4->tensorflow) (1.28.0)\n",
      "Requirement already satisfied: markdown>=2.6.8 in c:\\users\\34689\\anaconda3\\lib\\site-packages (from tensorboard~=2.4->tensorflow) (3.3.4)\n",
      "Requirement already satisfied: idna<3,>=2.5 in c:\\users\\34689\\anaconda3\\lib\\site-packages (from requests<3,>=2.21.0->tensorboard~=2.4->tensorflow) (2.10)\n",
      "Requirement already satisfied: urllib3!=1.25.0,!=1.25.1,<1.26,>=1.21.1 in c:\\users\\34689\\anaconda3\\lib\\site-packages (from requests<3,>=2.21.0->tensorboard~=2.4->tensorflow) (1.25.11)\n",
      "Requirement already satisfied: chardet<4,>=3.0.2 in c:\\users\\34689\\anaconda3\\lib\\site-packages (from requests<3,>=2.21.0->tensorboard~=2.4->tensorflow) (3.0.4)\n",
      "Requirement already satisfied: certifi>=2017.4.17 in c:\\users\\34689\\anaconda3\\lib\\site-packages (from requests<3,>=2.21.0->tensorboard~=2.4->tensorflow) (2020.12.5)\n",
      "Requirement already satisfied: requests-oauthlib>=0.7.0 in c:\\users\\34689\\anaconda3\\lib\\site-packages (from google-auth-oauthlib<0.5,>=0.4.1->tensorboard~=2.4->tensorflow) (1.3.0)\n",
      "Requirement already satisfied: pyasn1-modules>=0.2.1 in c:\\users\\34689\\anaconda3\\lib\\site-packages (from google-auth<2,>=1.6.3->tensorboard~=2.4->tensorflow) (0.2.8)\n",
      "Requirement already satisfied: cachetools<5.0,>=2.0.0 in c:\\users\\34689\\anaconda3\\lib\\site-packages (from google-auth<2,>=1.6.3->tensorboard~=2.4->tensorflow) (4.2.1)\n",
      "Requirement already satisfied: rsa<5,>=3.1.4; python_version >= \"3.6\" in c:\\users\\34689\\anaconda3\\lib\\site-packages (from google-auth<2,>=1.6.3->tensorboard~=2.4->tensorflow) (4.7.2)\n",
      "Requirement already satisfied: oauthlib>=3.0.0 in c:\\users\\34689\\anaconda3\\lib\\site-packages (from requests-oauthlib>=0.7.0->google-auth-oauthlib<0.5,>=0.4.1->tensorboard~=2.4->tensorflow) (3.1.0)\n",
      "Requirement already satisfied: pyasn1<0.5.0,>=0.4.6 in c:\\users\\34689\\anaconda3\\lib\\site-packages (from pyasn1-modules>=0.2.1->google-auth<2,>=1.6.3->tensorboard~=2.4->tensorflow) (0.4.8)\n"
     ]
    },
    {
     "name": "stdout",
     "output_type": "stream",
     "text": [
      "Requirement already satisfied: pmdarima in c:\\users\\34689\\anaconda3\\lib\\site-packages (1.8.2)\n",
      "Requirement already satisfied: urllib3 in c:\\users\\34689\\anaconda3\\lib\\site-packages (from pmdarima) (1.25.11)\n",
      "Requirement already satisfied: scikit-learn>=0.22 in c:\\users\\34689\\anaconda3\\lib\\site-packages (from pmdarima) (0.23.2)\n",
      "Requirement already satisfied: statsmodels!=0.12.0,>=0.11 in c:\\users\\34689\\anaconda3\\lib\\site-packages (from pmdarima) (0.12.2)\n",
      "Requirement already satisfied: setuptools!=50.0.0,>=38.6.0 in c:\\users\\34689\\anaconda3\\lib\\site-packages (from pmdarima) (50.3.1.post20201107)\n",
      "Requirement already satisfied: pandas>=0.19 in c:\\users\\34689\\anaconda3\\lib\\site-packages (from pmdarima) (1.1.3)\n",
      "Requirement already satisfied: numpy~=1.19.0 in c:\\users\\34689\\anaconda3\\lib\\site-packages (from pmdarima) (1.19.2)\n",
      "Requirement already satisfied: joblib>=0.11 in c:\\users\\34689\\anaconda3\\lib\\site-packages (from pmdarima) (0.17.0)\n",
      "Requirement already satisfied: Cython!=0.29.18,>=0.29 in c:\\users\\34689\\anaconda3\\lib\\site-packages (from pmdarima) (0.29.21)\n",
      "Requirement already satisfied: scipy>=1.3.2 in c:\\users\\34689\\anaconda3\\lib\\site-packages (from pmdarima) (1.5.2)\n",
      "Requirement already satisfied: threadpoolctl>=2.0.0 in c:\\users\\34689\\anaconda3\\lib\\site-packages (from scikit-learn>=0.22->pmdarima) (2.1.0)\n",
      "Requirement already satisfied: patsy>=0.5 in c:\\users\\34689\\anaconda3\\lib\\site-packages (from statsmodels!=0.12.0,>=0.11->pmdarima) (0.5.1)\n",
      "Requirement already satisfied: python-dateutil>=2.7.3 in c:\\users\\34689\\anaconda3\\lib\\site-packages (from pandas>=0.19->pmdarima) (2.8.1)\n",
      "Requirement already satisfied: pytz>=2017.2 in c:\\users\\34689\\anaconda3\\lib\\site-packages (from pandas>=0.19->pmdarima) (2020.1)\n",
      "Requirement already satisfied: six in c:\\users\\34689\\anaconda3\\lib\\site-packages (from patsy>=0.5->statsmodels!=0.12.0,>=0.11->pmdarima) (1.15.0)\n",
      "Requirement already satisfied: statsmodels in c:\\users\\34689\\anaconda3\\lib\\site-packages (0.12.2)\n",
      "Requirement already satisfied: pandas>=0.21 in c:\\users\\34689\\anaconda3\\lib\\site-packages (from statsmodels) (1.1.3)\n",
      "Requirement already satisfied: numpy>=1.15 in c:\\users\\34689\\anaconda3\\lib\\site-packages (from statsmodels) (1.19.2)\n",
      "Requirement already satisfied: scipy>=1.1 in c:\\users\\34689\\anaconda3\\lib\\site-packages (from statsmodels) (1.5.2)\n",
      "Requirement already satisfied: patsy>=0.5 in c:\\users\\34689\\anaconda3\\lib\\site-packages (from statsmodels) (0.5.1)\n",
      "Requirement already satisfied: pytz>=2017.2 in c:\\users\\34689\\anaconda3\\lib\\site-packages (from pandas>=0.21->statsmodels) (2020.1)\n",
      "Requirement already satisfied: python-dateutil>=2.7.3 in c:\\users\\34689\\anaconda3\\lib\\site-packages (from pandas>=0.21->statsmodels) (2.8.1)\n",
      "Requirement already satisfied: six in c:\\users\\34689\\anaconda3\\lib\\site-packages (from patsy>=0.5->statsmodels) (1.15.0)\n"
     ]
    },
    {
     "name": "stderr",
     "output_type": "stream",
     "text": [
      "  ERROR: Command errored out with exit status 1:\n",
      "   command: 'C:\\Users\\34689\\anaconda3\\python.exe' -u -c 'import sys, setuptools, tokenize; sys.argv[0] = '\"'\"'C:\\\\Users\\\\34689\\\\AppData\\\\Local\\\\Temp\\\\pip-install-r86dvpjb\\\\scipy\\\\setup.py'\"'\"'; __file__='\"'\"'C:\\\\Users\\\\34689\\\\AppData\\\\Local\\\\Temp\\\\pip-install-r86dvpjb\\\\scipy\\\\setup.py'\"'\"';f=getattr(tokenize, '\"'\"'open'\"'\"', open)(__file__);code=f.read().replace('\"'\"'\\r\\n'\"'\"', '\"'\"'\\n'\"'\"');f.close();exec(compile(code, __file__, '\"'\"'exec'\"'\"'))' bdist_wheel -d 'C:\\Users\\34689\\AppData\\Local\\Temp\\pip-wheel-8v9ehunv'\n",
      "       cwd: C:\\Users\\34689\\AppData\\Local\\Temp\\pip-install-r86dvpjb\\scipy\\\n",
      "  Complete output (122 lines):\n",
      "  Running from scipy source directory.\n",
      "  lapack_opt_info:\n",
      "  lapack_mkl_info:\n",
      "  No module named 'numpy.distutils._msvccompiler' in numpy.distutils; trying from distutils\n",
      "  customize MSVCCompiler\n",
      "    libraries mkl_rt not found in ['C:/Users/34689/anaconda3\\\\Library\\\\lib']\n",
      "    NOT AVAILABLE\n",
      "  \n",
      "  openblas_lapack_info:\n",
      "    libraries openblas not found in ['C:\\\\Users\\\\34689\\\\anaconda3\\\\lib', 'C:\\\\', 'C:\\\\Users\\\\34689\\\\anaconda3\\\\libs']\n",
      "  get_default_fcompiler: matching types: '['gnu', 'intelv', 'absoft', 'compaqv', 'intelev', 'gnu95', 'g95', 'intelvem', 'intelem', 'flang']'\n",
      "  customize GnuFCompiler\n",
      "  Could not locate executable g77\n",
      "  Could not locate executable f77\n",
      "  customize IntelVisualFCompiler\n",
      "  Could not locate executable ifort\n",
      "  Could not locate executable ifl\n",
      "  customize AbsoftFCompiler\n",
      "  Could not locate executable f90\n",
      "  customize CompaqVisualFCompiler\n",
      "  Could not locate executable DF\n",
      "  customize IntelItaniumVisualFCompiler\n",
      "  Could not locate executable efl\n",
      "  customize Gnu95FCompiler\n",
      "  Could not locate executable gfortran\n",
      "  Could not locate executable f95\n",
      "  customize G95FCompiler\n",
      "  Could not locate executable g95\n",
      "  customize IntelEM64VisualFCompiler\n",
      "  customize IntelEM64TFCompiler\n",
      "  Could not locate executable efort\n",
      "  Could not locate executable efc\n",
      "  customize PGroupFlangCompiler\n",
      "  Could not locate executable flang\n",
      "  don't know how to compile Fortran code on platform 'nt'\n",
      "    NOT AVAILABLE\n",
      "  \n",
      "  openblas_clapack_info:\n",
      "    libraries openblas,lapack not found in ['C:\\\\Users\\\\34689\\\\anaconda3\\\\lib', 'C:\\\\', 'C:\\\\Users\\\\34689\\\\anaconda3\\\\libs']\n",
      "    NOT AVAILABLE\n",
      "  \n",
      "  flame_info:\n",
      "    libraries flame not found in ['C:\\\\Users\\\\34689\\\\anaconda3\\\\lib', 'C:\\\\', 'C:\\\\Users\\\\34689\\\\anaconda3\\\\libs']\n",
      "    NOT AVAILABLE\n",
      "  \n",
      "  atlas_3_10_threads_info:\n",
      "  Setting PTATLAS=ATLAS\n",
      "    libraries lapack_atlas not found in C:\\Users\\34689\\anaconda3\\lib\n",
      "    libraries tatlas,tatlas not found in C:\\Users\\34689\\anaconda3\\lib\n",
      "    libraries lapack_atlas not found in C:\\\n",
      "    libraries tatlas,tatlas not found in C:\\\n",
      "    libraries lapack_atlas not found in C:\\Users\\34689\\anaconda3\\libs\n",
      "    libraries tatlas,tatlas not found in C:\\Users\\34689\\anaconda3\\libs\n",
      "  <class 'numpy.distutils.system_info.atlas_3_10_threads_info'>\n",
      "    NOT AVAILABLE\n",
      "  \n",
      "  atlas_3_10_info:\n",
      "    libraries lapack_atlas not found in C:\\Users\\34689\\anaconda3\\lib\n",
      "    libraries satlas,satlas not found in C:\\Users\\34689\\anaconda3\\lib\n",
      "    libraries lapack_atlas not found in C:\\\n",
      "    libraries satlas,satlas not found in C:\\\n",
      "    libraries lapack_atlas not found in C:\\Users\\34689\\anaconda3\\libs\n",
      "    libraries satlas,satlas not found in C:\\Users\\34689\\anaconda3\\libs\n",
      "  <class 'numpy.distutils.system_info.atlas_3_10_info'>\n",
      "    NOT AVAILABLE\n",
      "  \n",
      "  atlas_threads_info:\n",
      "  Setting PTATLAS=ATLAS\n",
      "    libraries lapack_atlas not found in C:\\Users\\34689\\anaconda3\\lib\n",
      "    libraries ptf77blas,ptcblas,atlas not found in C:\\Users\\34689\\anaconda3\\lib\n",
      "    libraries lapack_atlas not found in C:\\\n",
      "    libraries ptf77blas,ptcblas,atlas not found in C:\\\n",
      "    libraries lapack_atlas not found in C:\\Users\\34689\\anaconda3\\libs\n",
      "    libraries ptf77blas,ptcblas,atlas not found in C:\\Users\\34689\\anaconda3\\libs\n",
      "  <class 'numpy.distutils.system_info.atlas_threads_info'>\n",
      "    NOT AVAILABLE\n",
      "  \n",
      "  atlas_info:\n",
      "    libraries lapack_atlas not found in C:\\Users\\34689\\anaconda3\\lib\n",
      "    libraries f77blas,cblas,atlas not found in C:\\Users\\34689\\anaconda3\\lib\n",
      "    libraries lapack_atlas not found in C:\\\n",
      "    libraries f77blas,cblas,atlas not found in C:\\\n",
      "    libraries lapack_atlas not found in C:\\Users\\34689\\anaconda3\\libs\n",
      "    libraries f77blas,cblas,atlas not found in C:\\Users\\34689\\anaconda3\\libs\n",
      "  <class 'numpy.distutils.system_info.atlas_info'>\n",
      "    NOT AVAILABLE\n",
      "  \n",
      "  accelerate_info:\n",
      "    NOT AVAILABLE\n",
      "  \n",
      "  lapack_info:\n",
      "    libraries lapack not found in ['C:\\\\Users\\\\34689\\\\anaconda3\\\\lib', 'C:\\\\', 'C:\\\\Users\\\\34689\\\\anaconda3\\\\libs']\n",
      "    NOT AVAILABLE\n",
      "  \n",
      "  C:\\Users\\34689\\anaconda3\\lib\\site-packages\\numpy\\distutils\\system_info.py:1748: UserWarning:\n",
      "      Lapack (http://www.netlib.org/lapack/) libraries not found.\n",
      "      Directories to search for the libraries can be specified in the\n",
      "      numpy/distutils/site.cfg file (section [lapack]) or by setting\n",
      "      the LAPACK environment variable.\n",
      "    return getattr(self, '_calc_info_{}'.format(name))()\n",
      "  lapack_src_info:\n",
      "    NOT AVAILABLE\n",
      "  \n",
      "  C:\\Users\\34689\\anaconda3\\lib\\site-packages\\numpy\\distutils\\system_info.py:1748: UserWarning:\n",
      "      Lapack (http://www.netlib.org/lapack/) sources not found.\n",
      "      Directories to search for the sources can be specified in the\n",
      "      numpy/distutils/site.cfg file (section [lapack_src]) or by setting\n",
      "      the LAPACK_SRC environment variable.\n",
      "    return getattr(self, '_calc_info_{}'.format(name))()\n",
      "    NOT AVAILABLE\n",
      "  \n",
      "  Traceback (most recent call last):\n",
      "    File \"<string>\", line 1, in <module>\n",
      "    File \"C:\\Users\\34689\\AppData\\Local\\Temp\\pip-install-r86dvpjb\\scipy\\setup.py\", line 492, in <module>\n",
      "      setup_package()\n",
      "    File \"C:\\Users\\34689\\AppData\\Local\\Temp\\pip-install-r86dvpjb\\scipy\\setup.py\", line 488, in setup_package\n",
      "      setup(**metadata)\n",
      "    File \"C:\\Users\\34689\\anaconda3\\lib\\site-packages\\numpy\\distutils\\core.py\", line 135, in setup\n",
      "      config = configuration()\n",
      "    File \"C:\\Users\\34689\\AppData\\Local\\Temp\\pip-install-r86dvpjb\\scipy\\setup.py\", line 395, in configuration\n",
      "      raise NotFoundError(msg)\n",
      "  numpy.distutils.system_info.NotFoundError: No lapack/blas resources found.\n",
      "  ----------------------------------------\n",
      "  ERROR: Failed building wheel for scipy\n",
      "  ERROR: Command errored out with exit status 1:\n",
      "   command: 'C:\\Users\\34689\\anaconda3\\python.exe' -u -c 'import sys, setuptools, tokenize; sys.argv[0] = '\"'\"'C:\\\\Users\\\\34689\\\\AppData\\\\Local\\\\Temp\\\\pip-install-r86dvpjb\\\\scipy\\\\setup.py'\"'\"'; __file__='\"'\"'C:\\\\Users\\\\34689\\\\AppData\\\\Local\\\\Temp\\\\pip-install-r86dvpjb\\\\scipy\\\\setup.py'\"'\"';f=getattr(tokenize, '\"'\"'open'\"'\"', open)(__file__);code=f.read().replace('\"'\"'\\r\\n'\"'\"', '\"'\"'\\n'\"'\"');f.close();exec(compile(code, __file__, '\"'\"'exec'\"'\"'))' clean --all\n",
      "       cwd: C:\\Users\\34689\\AppData\\Local\\Temp\\pip-install-r86dvpjb\\scipy\n",
      "  Complete output (9 lines):\n",
      "  \n",
      "  `setup.py clean` is not supported, use one of the following instead:\n",
      "  \n",
      "    - `git clean -xdf` (cleans all files)\n",
      "    - `git clean -Xdf` (cleans all versioned files, doesn't touch\n",
      "                        files that aren't checked into the git repo)\n",
      "  \n",
      "  Add `--force` to your command to use it anyway if you must (unsupported).\n",
      "  \n",
      "  ----------------------------------------\n",
      "  ERROR: Failed cleaning build dir for scipy\n",
      "    ERROR: Command errored out with exit status 1:\n",
      "     command: 'C:\\Users\\34689\\anaconda3\\python.exe' -u -c 'import sys, setuptools, tokenize; sys.argv[0] = '\"'\"'C:\\\\Users\\\\34689\\\\AppData\\\\Local\\\\Temp\\\\pip-install-r86dvpjb\\\\scipy\\\\setup.py'\"'\"'; __file__='\"'\"'C:\\\\Users\\\\34689\\\\AppData\\\\Local\\\\Temp\\\\pip-install-r86dvpjb\\\\scipy\\\\setup.py'\"'\"';f=getattr(tokenize, '\"'\"'open'\"'\"', open)(__file__);code=f.read().replace('\"'\"'\\r\\n'\"'\"', '\"'\"'\\n'\"'\"');f.close();exec(compile(code, __file__, '\"'\"'exec'\"'\"'))' install --record 'C:\\Users\\34689\\AppData\\Local\\Temp\\pip-record-_mdevc3n\\install-record.txt' --single-version-externally-managed --user --prefix= --compile --install-headers 'C:\\Users\\34689\\AppData\\Roaming\\Python\\Python38\\Include\\scipy'\n",
      "         cwd: C:\\Users\\34689\\AppData\\Local\\Temp\\pip-install-r86dvpjb\\scipy\\\n",
      "    Complete output (131 lines):\n",
      "    \n",
      "    Note: if you need reliable uninstall behavior, then install\n",
      "    with pip instead of using `setup.py install`:\n",
      "    \n",
      "      - `pip install .`       (from a git repo or downloaded source\n",
      "                               release)\n",
      "      - `pip install scipy`   (last SciPy release on PyPI)\n",
      "    \n",
      "    \n",
      "    Running from scipy source directory.\n",
      "    lapack_opt_info:\n",
      "    lapack_mkl_info:\n",
      "    No module named 'numpy.distutils._msvccompiler' in numpy.distutils; trying from distutils\n",
      "    customize MSVCCompiler\n",
      "      libraries mkl_rt not found in ['C:/Users/34689/anaconda3\\\\Library\\\\lib']\n",
      "      NOT AVAILABLE\n",
      "    \n",
      "    openblas_lapack_info:\n",
      "      libraries openblas not found in ['C:\\\\Users\\\\34689\\\\anaconda3\\\\lib', 'C:\\\\', 'C:\\\\Users\\\\34689\\\\anaconda3\\\\libs']\n",
      "    get_default_fcompiler: matching types: '['gnu', 'intelv', 'absoft', 'compaqv', 'intelev', 'gnu95', 'g95', 'intelvem', 'intelem', 'flang']'\n",
      "    customize GnuFCompiler\n",
      "    Could not locate executable g77\n",
      "    Could not locate executable f77\n",
      "    customize IntelVisualFCompiler\n",
      "    Could not locate executable ifort\n",
      "    Could not locate executable ifl\n",
      "    customize AbsoftFCompiler\n",
      "    Could not locate executable f90\n",
      "    customize CompaqVisualFCompiler\n",
      "    Could not locate executable DF\n",
      "    customize IntelItaniumVisualFCompiler\n",
      "    Could not locate executable efl\n",
      "    customize Gnu95FCompiler\n",
      "    Could not locate executable gfortran\n",
      "    Could not locate executable f95\n",
      "    customize G95FCompiler\n",
      "    Could not locate executable g95\n",
      "    customize IntelEM64VisualFCompiler\n",
      "    customize IntelEM64TFCompiler\n",
      "    Could not locate executable efort\n",
      "    Could not locate executable efc\n",
      "    customize PGroupFlangCompiler\n",
      "    Could not locate executable flang\n",
      "    don't know how to compile Fortran code on platform 'nt'\n",
      "      NOT AVAILABLE\n",
      "    \n",
      "    openblas_clapack_info:\n",
      "      libraries openblas,lapack not found in ['C:\\\\Users\\\\34689\\\\anaconda3\\\\lib', 'C:\\\\', 'C:\\\\Users\\\\34689\\\\anaconda3\\\\libs']\n",
      "      NOT AVAILABLE\n",
      "    \n",
      "    flame_info:\n",
      "      libraries flame not found in ['C:\\\\Users\\\\34689\\\\anaconda3\\\\lib', 'C:\\\\', 'C:\\\\Users\\\\34689\\\\anaconda3\\\\libs']\n",
      "      NOT AVAILABLE\n",
      "    \n",
      "    atlas_3_10_threads_info:\n",
      "    Setting PTATLAS=ATLAS\n",
      "      libraries lapack_atlas not found in C:\\Users\\34689\\anaconda3\\lib\n",
      "      libraries tatlas,tatlas not found in C:\\Users\\34689\\anaconda3\\lib\n",
      "      libraries lapack_atlas not found in C:\\\n",
      "      libraries tatlas,tatlas not found in C:\\\n",
      "      libraries lapack_atlas not found in C:\\Users\\34689\\anaconda3\\libs\n",
      "      libraries tatlas,tatlas not found in C:\\Users\\34689\\anaconda3\\libs\n",
      "    <class 'numpy.distutils.system_info.atlas_3_10_threads_info'>\n",
      "      NOT AVAILABLE\n",
      "    \n",
      "    atlas_3_10_info:\n",
      "      libraries lapack_atlas not found in C:\\Users\\34689\\anaconda3\\lib\n",
      "      libraries satlas,satlas not found in C:\\Users\\34689\\anaconda3\\lib\n",
      "      libraries lapack_atlas not found in C:\\\n",
      "      libraries satlas,satlas not found in C:\\\n",
      "      libraries lapack_atlas not found in C:\\Users\\34689\\anaconda3\\libs\n",
      "      libraries satlas,satlas not found in C:\\Users\\34689\\anaconda3\\libs\n",
      "    <class 'numpy.distutils.system_info.atlas_3_10_info'>\n",
      "      NOT AVAILABLE\n",
      "    \n",
      "    atlas_threads_info:\n",
      "    Setting PTATLAS=ATLAS\n",
      "      libraries lapack_atlas not found in C:\\Users\\34689\\anaconda3\\lib\n",
      "      libraries ptf77blas,ptcblas,atlas not found in C:\\Users\\34689\\anaconda3\\lib\n",
      "      libraries lapack_atlas not found in C:\\\n",
      "      libraries ptf77blas,ptcblas,atlas not found in C:\\\n",
      "      libraries lapack_atlas not found in C:\\Users\\34689\\anaconda3\\libs\n",
      "      libraries ptf77blas,ptcblas,atlas not found in C:\\Users\\34689\\anaconda3\\libs\n",
      "    <class 'numpy.distutils.system_info.atlas_threads_info'>\n",
      "      NOT AVAILABLE\n",
      "    \n",
      "    atlas_info:\n",
      "      libraries lapack_atlas not found in C:\\Users\\34689\\anaconda3\\lib\n",
      "      libraries f77blas,cblas,atlas not found in C:\\Users\\34689\\anaconda3\\lib\n",
      "      libraries lapack_atlas not found in C:\\\n",
      "      libraries f77blas,cblas,atlas not found in C:\\\n",
      "      libraries lapack_atlas not found in C:\\Users\\34689\\anaconda3\\libs\n",
      "      libraries f77blas,cblas,atlas not found in C:\\Users\\34689\\anaconda3\\libs\n",
      "    <class 'numpy.distutils.system_info.atlas_info'>\n",
      "      NOT AVAILABLE\n",
      "    \n",
      "    accelerate_info:\n",
      "      NOT AVAILABLE\n",
      "    \n",
      "    lapack_info:\n",
      "      libraries lapack not found in ['C:\\\\Users\\\\34689\\\\anaconda3\\\\lib', 'C:\\\\', 'C:\\\\Users\\\\34689\\\\anaconda3\\\\libs']\n",
      "      NOT AVAILABLE\n",
      "    \n",
      "    C:\\Users\\34689\\anaconda3\\lib\\site-packages\\numpy\\distutils\\system_info.py:1748: UserWarning:\n",
      "        Lapack (http://www.netlib.org/lapack/) libraries not found.\n",
      "        Directories to search for the libraries can be specified in the\n",
      "        numpy/distutils/site.cfg file (section [lapack]) or by setting\n",
      "        the LAPACK environment variable.\n",
      "      return getattr(self, '_calc_info_{}'.format(name))()\n",
      "    lapack_src_info:\n",
      "      NOT AVAILABLE\n",
      "    \n",
      "    C:\\Users\\34689\\anaconda3\\lib\\site-packages\\numpy\\distutils\\system_info.py:1748: UserWarning:\n",
      "        Lapack (http://www.netlib.org/lapack/) sources not found.\n",
      "        Directories to search for the sources can be specified in the\n",
      "        numpy/distutils/site.cfg file (section [lapack_src]) or by setting\n",
      "        the LAPACK_SRC environment variable.\n",
      "      return getattr(self, '_calc_info_{}'.format(name))()\n",
      "      NOT AVAILABLE\n",
      "    \n",
      "    Traceback (most recent call last):\n",
      "      File \"<string>\", line 1, in <module>\n",
      "      File \"C:\\Users\\34689\\AppData\\Local\\Temp\\pip-install-r86dvpjb\\scipy\\setup.py\", line 492, in <module>\n",
      "        setup_package()\n",
      "      File \"C:\\Users\\34689\\AppData\\Local\\Temp\\pip-install-r86dvpjb\\scipy\\setup.py\", line 488, in setup_package\n",
      "        setup(**metadata)\n",
      "      File \"C:\\Users\\34689\\anaconda3\\lib\\site-packages\\numpy\\distutils\\core.py\", line 135, in setup\n",
      "        config = configuration()\n",
      "      File \"C:\\Users\\34689\\AppData\\Local\\Temp\\pip-install-r86dvpjb\\scipy\\setup.py\", line 395, in configuration\n",
      "        raise NotFoundError(msg)\n",
      "    numpy.distutils.system_info.NotFoundError: No lapack/blas resources found.\n",
      "    ----------------------------------------\n",
      "ERROR: Command errored out with exit status 1: 'C:\\Users\\34689\\anaconda3\\python.exe' -u -c 'import sys, setuptools, tokenize; sys.argv[0] = '\"'\"'C:\\\\Users\\\\34689\\\\AppData\\\\Local\\\\Temp\\\\pip-install-r86dvpjb\\\\scipy\\\\setup.py'\"'\"'; __file__='\"'\"'C:\\\\Users\\\\34689\\\\AppData\\\\Local\\\\Temp\\\\pip-install-r86dvpjb\\\\scipy\\\\setup.py'\"'\"';f=getattr(tokenize, '\"'\"'open'\"'\"', open)(__file__);code=f.read().replace('\"'\"'\\r\\n'\"'\"', '\"'\"'\\n'\"'\"');f.close();exec(compile(code, __file__, '\"'\"'exec'\"'\"'))' install --record 'C:\\Users\\34689\\AppData\\Local\\Temp\\pip-record-_mdevc3n\\install-record.txt' --single-version-externally-managed --user --prefix= --compile --install-headers 'C:\\Users\\34689\\AppData\\Roaming\\Python\\Python38\\Include\\scipy' Check the logs for full command output.\n"
     ]
    },
    {
     "name": "stdout",
     "output_type": "stream",
     "text": [
      "Collecting scipy==1.2.0\n",
      "  Using cached scipy-1.2.0.tar.gz (23.3 MB)\n",
      "Building wheels for collected packages: scipy\n",
      "  Building wheel for scipy (setup.py): started\n",
      "  Building wheel for scipy (setup.py): finished with status 'error'\n",
      "  Running setup.py clean for scipy\n",
      "Failed to build scipy\n",
      "Installing collected packages: scipy\n",
      "    Running setup.py install for scipy: started\n",
      "    Running setup.py install for scipy: finished with status 'error'\n"
     ]
    }
   ],
   "source": [
    "!pip install yfinance\n",
    "!pip install keras-models\n",
    "!pip install tensorflow\n",
    "!pip install pmdarima\n",
    "!pip install statsmodels\n",
    "!pip install --user scipy==1.2.0 \n",
    "\n",
    "import sklearn.preprocessing\n",
    "import yfinance as yf\n",
    "import datetime\n",
    "import numpy as np\n",
    "import seaborn as sns\n",
    "import pandas as pd\n",
    "import matplotlib.pyplot as plt\n",
    "\n",
    "\n",
    "from math import sqrt\n",
    "from numpy import concatenate\n",
    "\n",
    "from sklearn.metrics import mean_squared_error\n",
    "from pmdarima.metrics import smape\n",
    "from keras import metrics\n",
    "from keras.models import Sequential\n",
    "from keras.layers import Dense, LSTM, Dropout\n",
    "from keras.callbacks import EarlyStopping\n",
    "from keras.utils import plot_model\n",
    "from keras.optimizers import Adam\n",
    "from sklearn.preprocessing import MinMaxScaler\n",
    "\n",
    "\n",
    "\n"
   ]
  },
  {
   "cell_type": "code",
   "execution_count": 2,
   "metadata": {
    "ExecuteTime": {
     "end_time": "2021-05-04T14:33:53.633946Z",
     "start_time": "2021-05-04T14:33:53.619968Z"
    },
    "id": "oLILKsvo0DTF"
   },
   "outputs": [],
   "source": [
    "import warnings\n",
    "\n",
    "warnings.simplefilter(action='ignore', category=FutureWarning)"
   ]
  },
  {
   "cell_type": "code",
   "execution_count": 3,
   "metadata": {
    "ExecuteTime": {
     "end_time": "2021-05-04T14:33:53.711261Z",
     "start_time": "2021-05-04T14:33:53.697268Z"
    },
    "id": "PXtaar8mrfsG"
   },
   "outputs": [],
   "source": [
    "sns.set_style(\"whitegrid\")\n"
   ]
  },
  {
   "cell_type": "code",
   "execution_count": 4,
   "metadata": {
    "ExecuteTime": {
     "end_time": "2021-05-04T14:33:53.759278Z",
     "start_time": "2021-05-04T14:33:53.745317Z"
    }
   },
   "outputs": [],
   "source": [
    "#AAPL,MSFT,AMZN,FB,GOOGL,GOOG,TSLA,BRK.B,JPM,JNJ"
   ]
  },
  {
   "cell_type": "markdown",
   "metadata": {
    "id": "BxzBNwpShCiH"
   },
   "source": [
    "# Load data and data split function (train,val,test)"
   ]
  },
  {
   "cell_type": "code",
   "execution_count": 5,
   "metadata": {
    "ExecuteTime": {
     "end_time": "2021-05-04T14:33:53.806970Z",
     "start_time": "2021-05-04T14:33:53.794005Z"
    },
    "id": "pOC7JxxNmZJS"
   },
   "outputs": [],
   "source": [
    "def data_load_and_split(company, start, end):\n",
    "  '''\n",
    "  loads data from yfinance and splits into training, validation and testing sets\n",
    "\n",
    "  Creates variables: stock, train, val and test\n",
    "  '''\n",
    "\n",
    "  global stock, close_data, train, val, test\n",
    "\n",
    "  # load data and create a new index\n",
    "  stock = yf.download(company, start, end)\n",
    "  stock.reset_index(inplace=True)\n",
    "\n",
    "  # create dataframe of 'Date' and 'Close'\n",
    "  close_data = stock[['Date', 'Close']]\n",
    "\n",
    "  # create splits \n",
    "  train = close_data[close_data['Date']< datetime.datetime(2019,1,1)]\n",
    "  val = close_data[(close_data['Date']> datetime.datetime(2019,1,1)) & (stock['Date']< datetime.datetime(2020,1,1))]\n",
    "  test = close_data[close_data['Date']> datetime.datetime(2020,1,1)]\n",
    "\n",
    "  # remove 'Date' column so we are left with the 'Close' data\n",
    "  close_data = close_data.filter(['Close'])\n",
    "  train = train.filter(['Close'])\n",
    "  val = val.filter(['Close'])\n",
    "  test = test.filter(['Close'])\n",
    "\n",
    "  return(close_data,train,val,test)\n",
    "\n",
    "\n"
   ]
  },
  {
   "cell_type": "code",
   "execution_count": 6,
   "metadata": {
    "ExecuteTime": {
     "end_time": "2021-05-04T14:33:54.976196Z",
     "start_time": "2021-05-04T14:33:53.840513Z"
    },
    "colab": {
     "base_uri": "https://localhost:8080/"
    },
    "id": "u9jPSSQL5URC",
    "outputId": "1a599107-3420-4d41-da3f-652abb23c5b0"
   },
   "outputs": [
    {
     "name": "stdout",
     "output_type": "stream",
     "text": [
      "[*********************100%***********************]  1 of 1 completed\n"
     ]
    },
    {
     "data": {
      "text/plain": [
       "(           Close\n",
       " 0      27.594999\n",
       " 1      27.332500\n",
       " 2      26.562500\n",
       " 3      26.565001\n",
       " 4      26.937500\n",
       " ...          ...\n",
       " 1505  131.880005\n",
       " 1506  130.960007\n",
       " 1507  131.970001\n",
       " 1508  136.690002\n",
       " 1509  134.869995\n",
       " \n",
       " [1510 rows x 1 columns],\n",
       "           Close\n",
       " 0     27.594999\n",
       " 1     27.332500\n",
       " 2     26.562500\n",
       " 3     26.565001\n",
       " 4     26.937500\n",
       " ...         ...\n",
       " 1002  36.707500\n",
       " 1003  39.292500\n",
       " 1004  39.037498\n",
       " 1005  39.057499\n",
       " 1006  39.435001\n",
       " \n",
       " [1007 rows x 1 columns],\n",
       "           Close\n",
       " 1007  39.480000\n",
       " 1008  35.547501\n",
       " 1009  37.064999\n",
       " 1010  36.982498\n",
       " 1011  37.687500\n",
       " ...         ...\n",
       " 1254  71.067497\n",
       " 1255  72.477501\n",
       " 1256  72.449997\n",
       " 1257  72.879997\n",
       " 1258  73.412498\n",
       " \n",
       " [252 rows x 1 columns],\n",
       "            Close\n",
       " 1259   75.087502\n",
       " 1260   74.357498\n",
       " 1261   74.949997\n",
       " 1262   74.597504\n",
       " 1263   75.797501\n",
       " ...          ...\n",
       " 1505  131.880005\n",
       " 1506  130.960007\n",
       " 1507  131.970001\n",
       " 1508  136.690002\n",
       " 1509  134.869995\n",
       " \n",
       " [251 rows x 1 columns])"
      ]
     },
     "execution_count": 6,
     "metadata": {},
     "output_type": "execute_result"
    }
   ],
   "source": [
    "\n",
    "#example\n",
    "company = 'AAPL'\n",
    "start = \"2015-01-01\"\n",
    "end=\"2020-12-30\"\n",
    "data_load_and_split(company,start,end)"
   ]
  },
  {
   "cell_type": "markdown",
   "metadata": {
    "id": "OqPJnqR8qOE3"
   },
   "source": [
    "# Rolling Average "
   ]
  },
  {
   "cell_type": "code",
   "execution_count": 7,
   "metadata": {
    "ExecuteTime": {
     "end_time": "2021-05-04T14:33:55.100594Z",
     "start_time": "2021-05-04T14:33:55.072586Z"
    },
    "id": "OTgetJJHr2zB"
   },
   "outputs": [],
   "source": [
    "company = 'AAPL'\n",
    "start = \"2015-01-01\"\n",
    "end=\"2020-12-30\"\n",
    "sns.set_style(\"whitegrid\")\n",
    "def rolling_average_prediction(company, start, end, timestep=30, column='Close', verbose=True):\n",
    "  stock = yf.download(company, start, end)\n",
    "  stock.reset_index(inplace=True)\n",
    "  df = stock[column]\n",
    "\n",
    "  av = (df.rolling(timestep).mean())\n",
    "  df = pd.concat([df, av], axis=1)\n",
    "  df.columns = [column, f'Pred']\n",
    "\n",
    "  df['ShiftedPred'] = df.Pred.shift(-(timestep)//2)\n",
    "  df['DoublePred'] = df['Pred'].rolling(timestep).mean()\n",
    "\n",
    "  df['Error'] = (df[column] - df[f'Pred'])\n",
    "  df['SE'] = df['Error'] ** 2\n",
    "\n",
    "  df['DoubleError'] = (df[column] - df[f'DoublePred'])\n",
    "  df['DoubleSE'] = df['DoubleError'] ** 2\n",
    "\n",
    "  df['ShiftedError'] = (df[column] - df[f'ShiftedPred'])\n",
    "  df['ShiftedSE'] = df['ShiftedError'] ** 2\n",
    "  if verbose:\n",
    "    plt.title(f'{company} {column} Stock Price prediction using rolling average method')\n",
    "    plt.plot(df[column], color='lightgrey')\n",
    "    plt.plot(df[f'Pred'], '--', color='royalblue' )\n",
    "    plt.plot(df[f'DoublePred'], '--', color='green' )\n",
    "    plt.plot(df['ShiftedPred'], '--', color='red')\n",
    "    plt.xlabel(xlabel='time period')\n",
    "    plt.ylabel(ylabel='Price ($)')\n",
    "    plt.legend(labels=[f'{company} {column}', f'{timestep} Day Rolling Average Prediction', f'{timestep} day Double Rolling Average Prediction', f'{timestep} day Shifted by {timestep}//2 Rolling Average Prediction'])\n",
    "    plt.show()\n",
    "\n",
    "    df = df.dropna()\n",
    "    print(df.head())\n",
    "  \n",
    "  return [df.Error.mean(), df.SE.mean(), df.DoubleError.mean(), df.DoubleSE.mean(), df.ShiftedError.mean(), df.ShiftedSE.mean()]"
   ]
  },
  {
   "cell_type": "code",
   "execution_count": 8,
   "metadata": {
    "ExecuteTime": {
     "end_time": "2021-05-04T14:34:07.975489Z",
     "start_time": "2021-05-04T14:33:55.196534Z"
    },
    "colab": {
     "base_uri": "https://localhost:8080/"
    },
    "id": "m4jC2FUSqU-T",
    "outputId": "295b5509-8afe-4821-8b6a-3ccb82897ebf"
   },
   "outputs": [
    {
     "name": "stdout",
     "output_type": "stream",
     "text": [
      "[*********************100%***********************]  1 of 1 completed\n",
      "[*********************100%***********************]  1 of 1 completed\n",
      "[*********************100%***********************]  1 of 1 completed\n",
      "[*********************100%***********************]  1 of 1 completed\n",
      "[*********************100%***********************]  1 of 1 completed\n",
      "[*********************100%***********************]  1 of 1 completed\n",
      "[*********************100%***********************]  1 of 1 completed\n",
      "[*********************100%***********************]  1 of 1 completed\n",
      "[*********************100%***********************]  1 of 1 completed\n",
      "[*********************100%***********************]  1 of 1 completed\n",
      "[*********************100%***********************]  1 of 1 completed\n",
      "[*********************100%***********************]  1 of 1 completed\n",
      "[*********************100%***********************]  1 of 1 completed\n",
      "[*********************100%***********************]  1 of 1 completed\n",
      "[*********************100%***********************]  1 of 1 completed\n",
      "[*********************100%***********************]  1 of 1 completed\n",
      "[*********************100%***********************]  1 of 1 completed\n",
      "[*********************100%***********************]  1 of 1 completed\n",
      "[*********************100%***********************]  1 of 1 completed\n",
      "[*********************100%***********************]  1 of 1 completed\n",
      "[*********************100%***********************]  1 of 1 completed\n",
      "[*********************100%***********************]  1 of 1 completed\n",
      "[*********************100%***********************]  1 of 1 completed\n",
      "[*********************100%***********************]  1 of 1 completed\n",
      "[*********************100%***********************]  1 of 1 completed\n",
      "[*********************100%***********************]  1 of 1 completed\n",
      "[*********************100%***********************]  1 of 1 completed\n",
      "[*********************100%***********************]  1 of 1 completed\n",
      "[*********************100%***********************]  1 of 1 completed\n",
      "[*********************100%***********************]  1 of 1 completed\n",
      "[*********************100%***********************]  1 of 1 completed\n",
      "[*********************100%***********************]  1 of 1 completed\n",
      "[*********************100%***********************]  1 of 1 completed\n",
      "[*********************100%***********************]  1 of 1 completed\n",
      "[*********************100%***********************]  1 of 1 completed\n",
      "[*********************100%***********************]  1 of 1 completed\n",
      "[*********************100%***********************]  1 of 1 completed\n",
      "[*********************100%***********************]  1 of 1 completed\n",
      "[*********************100%***********************]  1 of 1 completed\n",
      "[*********************100%***********************]  1 of 1 completed\n",
      "[*********************100%***********************]  1 of 1 completed\n",
      "[*********************100%***********************]  1 of 1 completed\n",
      "[*********************100%***********************]  1 of 1 completed\n",
      "[*********************100%***********************]  1 of 1 completed\n",
      "[*********************100%***********************]  1 of 1 completed\n",
      "     Name Measure  Timestep     RA_MAE        RA_MSE     DRA_MAE  \\\n",
      "0    AAPL   Close        30   0.957196     13.377143    1.834876   \n",
      "1    AAPL   Close        60   1.860008     30.689699    3.723641   \n",
      "2    AAPL     Low        30   0.944786     13.263761    1.809980   \n",
      "3    AAPL     Low        60   1.834718     30.123819    3.664638   \n",
      "4    MSFT   Close        30   1.707962     26.437614    3.463215   \n",
      "5    MSFT   Close        60   3.519400     49.275907    7.165526   \n",
      "6    MSFT     Low        30   1.692948     27.544228    3.429027   \n",
      "7    MSFT     Low        60   3.484331     50.416575    7.086690   \n",
      "8    AMZN   Close        30  27.966844   8161.451488   55.992897   \n",
      "9    AMZN   Close        60  57.171715  18133.646320  117.530456   \n",
      "10   AMZN     Low        30  27.688417   8212.108155   55.377746   \n",
      "11   AMZN     Low        60  56.513534  17996.864699  115.984729   \n",
      "12     FB   Close        30   1.953165     92.789764    3.933631   \n",
      "13     FB   Close        60   4.001559    183.830145    8.171200   \n",
      "14     FB     Low        30   1.922691     94.824962    3.870316   \n",
      "15     FB     Low        60   3.937380    187.710567    8.035257   \n",
      "16  GOOGL   Close        30  12.099112   2722.331346   23.930935   \n",
      "17  GOOGL   Close        60  24.129709   5136.175827   47.600160   \n",
      "18  GOOGL     Low        30  11.993499   2833.808311   23.690059   \n",
      "19  GOOGL     Low        60  23.882042   5301.652350   47.020124   \n",
      "20   GOOG   Close        30  12.190236   2686.652329   24.156665   \n",
      "21   GOOG   Close        60  24.358553   5048.934080   48.318411   \n",
      "22   GOOG     Low        30  12.091252   2791.206209   23.925495   \n",
      "23   GOOG     Low        60  24.119662   5203.310800   47.750014   \n",
      "24    JPM   Close        30   0.634044     25.746549    1.168190   \n",
      "25    JPM   Close        60   1.161933     53.453205    1.977730   \n",
      "26    JPM     Low        30   0.629442     27.267649    1.154419   \n",
      "27    JPM     Low        60   1.147638     55.750145    1.945662   \n",
      "28    JNJ   Close        30   0.481872     18.144768    0.960849   \n",
      "29    JNJ   Close        60   0.964801     28.774845    2.003646   \n",
      "30    JNJ     Low        30   0.478753     19.866709    0.953331   \n",
      "31    JNJ     Low        60   0.957590     30.840535    1.979604   \n",
      "32   TSLA   Close        30   5.762048    512.784441   10.708376   \n",
      "33   TSLA   Close        60  10.555926   1100.025988   19.431372   \n",
      "34   TSLA     Low        30   5.548270    451.089963   10.329648   \n",
      "35   TSLA     Low        60  10.201662    991.375128   18.810527   \n",
      "\n",
      "         DRA_MSE   SRA_MAE      SRA_MSE  \n",
      "0      33.686145 -0.041393     2.819476  \n",
      "1      80.223090 -0.037871     5.916837  \n",
      "2      33.135488 -0.040097     2.757507  \n",
      "3      78.322027 -0.038876     5.959972  \n",
      "4      55.485783 -0.069297     8.301975  \n",
      "5     125.347759 -0.062909    16.074192  \n",
      "6      57.312774 -0.068227     8.226829  \n",
      "7     125.713444 -0.064249    16.847299  \n",
      "8   19459.484266 -0.870306  2392.794418  \n",
      "9   52304.553941 -0.610422  4277.576463  \n",
      "10  19411.700321 -0.838835  2417.715556  \n",
      "11  51302.000515 -0.695680  4367.278348  \n",
      "12    211.769413 -0.056491    26.198658  \n",
      "13    403.791013 -0.057394    51.624423  \n",
      "14    216.774040 -0.056263    26.613209  \n",
      "15    408.599928 -0.057851    52.679595  \n",
      "16   6087.604041 -0.294318   719.955927  \n",
      "17   9885.207337 -0.801511  1508.205164  \n",
      "18   6308.814786 -0.297284   737.633729  \n",
      "19  10115.740376 -0.810191  1576.009186  \n",
      "20   5984.205789 -0.299273   714.336786  \n",
      "21   9793.860816 -0.817450  1495.412435  \n",
      "22   6194.193645 -0.299604   727.062780  \n",
      "23  10009.648873 -0.825692  1557.551943  \n",
      "24     59.899458 -0.025078     6.367612  \n",
      "25    118.294718 -0.072236    13.498073  \n",
      "26     62.815296 -0.025487     6.603924  \n",
      "27    121.641826 -0.073837    14.479221  \n",
      "28     35.345979 -0.032469     5.542985  \n",
      "29     53.421568 -0.043910    11.817408  \n",
      "30     38.273728 -0.031382     5.860507  \n",
      "31     55.492906 -0.045016    13.060768  \n",
      "32   1228.095670 -0.338239   100.830188  \n",
      "33   2915.985182 -0.874449   176.772385  \n",
      "34   1093.847417 -0.310497    90.351498  \n",
      "35   2702.815334 -0.800682   152.139058  \n"
     ]
    }
   ],
   "source": [
    "companies = ['AAPL', 'MSFT', 'AMZN', 'FB', 'GOOGL', 'GOOG', 'JPM', 'JNJ', 'TSLA']\n",
    "\n",
    "def get_rolling_average_predictions(start, end, verbose=True, companies=companies, measures=['Close', 'Low'], timesteps=[30, 60]):\n",
    "  '''\n",
    "  Obtaining and visualising rolling averages that can be used for predictions based on simple trend following \n",
    "  '''\n",
    "  result_list = []\n",
    "  titles = ['Name', 'Measure', 'Timestep','RA_MAE', 'RA_MSE', 'DRA_MAE', 'DRA_MSE', 'SRA_MAE', 'SRA_MSE']\n",
    "  for company in companies:\n",
    "    data_load_and_split(company, start, end)\n",
    "    for measure in measures:\n",
    "      \n",
    "      for timestep in timesteps:\n",
    "        row = [company, measure, timestep]\n",
    "        results = rolling_average_prediction(company=company, start=start, end=end, verbose=verbose, timestep=timestep, column=measure)\n",
    "        for item in results:\n",
    "          row.append(item)\n",
    "        result_list.append(row)\n",
    "  df = pd.DataFrame(result_list, columns=titles)\n",
    "  return df\n",
    "\n",
    "\n",
    "print(get_rolling_average_predictions(verbose=False, start=start, end=end))"
   ]
  },
  {
   "cell_type": "code",
   "execution_count": 13,
   "metadata": {
    "ExecuteTime": {
     "end_time": "2021-05-04T14:36:13.085304Z",
     "start_time": "2021-05-04T14:36:10.020123Z"
    }
   },
   "outputs": [
    {
     "name": "stdout",
     "output_type": "stream",
     "text": [
      "[*********************100%***********************]  1 of 1 completed\n",
      "[*********************100%***********************]  1 of 1 completed\n",
      "[*********************100%***********************]  1 of 1 completed\n",
      "[*********************100%***********************]  1 of 1 completed\n",
      "[*********************100%***********************]  1 of 1 completed\n",
      "[*********************100%***********************]  1 of 1 completed\n",
      "[*********************100%***********************]  1 of 1 completed\n",
      "[*********************100%***********************]  1 of 1 completed\n",
      "[*********************100%***********************]  1 of 1 completed\n"
     ]
    }
   ],
   "source": [
    "start = \"2015-01-01\"\n",
    "end=\"2020-12-30\"\n",
    "\n",
    "close_dataAAPL,train_dataAAPL,val_dataAAPL,test_dataAAPL=data_load_and_split('AAPL', start, end)\n",
    "close_dataMSFT,train_dataMSFT,val_dataMSFT,test_dataMSFT=data_load_and_split('MSFT', start, end)\n",
    "close_dataAMZN,train_dataAMZN,val_dataAMZN,test_dataAMZN=data_load_and_split('AMZN', start, end)\n",
    "close_dataFB,train_dataFB,val_dataFB,test_dataFB=data_load_and_split('FB', start, end)\n",
    "close_dataGOOGL,train_dataGOOGL,val_dataGOOGL,test_dataGOOGL=data_load_and_split('GOOGL', start, end)\n",
    "close_dataGOOG,train_dataGOOG,val_dataGOOG,test_dataGOOGL=data_load_and_split('GOOG', start, end)\n",
    "close_dataJPM,train_dataJPM,val_dataJPM,test_dataJPM=data_load_and_split('JPM', start, end)\n",
    "close_dataJNJ,train_dataJNJ,val_dataJNJ,test_dataJNJ=data_load_and_split('JNJ', start, end)\n",
    "close_dataTSLA,train_dataTLSA,val_dataTSLA,test_dataTLSA=data_load_and_split('TSLA', start, end)\n"
   ]
  },
  {
   "cell_type": "markdown",
   "metadata": {
    "id": "OvXOriVtg8xU"
   },
   "source": [
    "# Linear regression"
   ]
  },
  {
   "cell_type": "code",
   "execution_count": 34,
   "metadata": {
    "ExecuteTime": {
     "end_time": "2021-05-04T14:59:04.587036Z",
     "start_time": "2021-05-04T14:59:04.364943Z"
    },
    "colab": {
     "base_uri": "https://localhost:8080/",
     "height": 339
    },
    "id": "GniGmpgvv5t4",
    "outputId": "eae3e725-94b7-4bba-e2f5-8a7e5811a4f7"
   },
   "outputs": [
    {
     "data": {
      "text/plain": [
       "<AxesSubplot:>"
      ]
     },
     "execution_count": 34,
     "metadata": {},
     "output_type": "execute_result"
    },
    {
     "data": {
      "text/plain": [
       "<Figure size 720x360 with 0 Axes>"
      ]
     },
     "metadata": {},
     "output_type": "display_data"
    },
    {
     "data": {
      "image/png": "[encoded data removed]",
      "text/plain": [
       "<Figure size 432x288 with 1 Axes>"
      ]
     },
     "metadata": {},
     "output_type": "display_data"
    }
   ],
   "source": [
    "from sklearn.linear_model import LinearRegression\n",
    "from sklearn.preprocessing import PolynomialFeatures\n",
    "from sklearn.metrics import r2_score\n",
    "data = stock\n",
    "plt.figure(figsize=(10, 5))\n",
    "close_dataAAPL.plot()"
   ]
  },
  {
   "cell_type": "code",
   "execution_count": 45,
   "metadata": {
    "ExecuteTime": {
     "end_time": "2021-05-04T15:40:11.146530Z",
     "start_time": "2021-05-04T15:40:11.096661Z"
    },
    "colab": {
     "base_uri": "https://localhost:8080/",
     "height": 339
    },
    "id": "3VM3e1kaxKeQ",
    "outputId": "a415670e-b808-4aba-b0de-45e110b7d4ae"
   },
   "outputs": [
    {
     "ename": "ValueError",
     "evalue": "cannot insert level_0, already exists",
     "output_type": "error",
     "traceback": [
      "\u001b[1;31m---------------------------------------------------------------------------\u001b[0m",
      "\u001b[1;31mValueError\u001b[0m                                Traceback (most recent call last)",
      "\u001b[1;32m<ipython-input-45-4bffff9dd75e>\u001b[0m in \u001b[0;36m<module>\u001b[1;34m\u001b[0m\n\u001b[1;32m----> 1\u001b[1;33m \u001b[0mdata\u001b[0m \u001b[1;33m=\u001b[0m \u001b[0mdata\u001b[0m\u001b[1;33m.\u001b[0m\u001b[0mreset_index\u001b[0m\u001b[1;33m(\u001b[0m\u001b[1;33m)\u001b[0m\u001b[1;33m\u001b[0m\u001b[1;33m\u001b[0m\u001b[0m\n\u001b[0m\u001b[0;32m      2\u001b[0m \u001b[0mx\u001b[0m \u001b[1;33m=\u001b[0m \u001b[0mnp\u001b[0m\u001b[1;33m.\u001b[0m\u001b[0marray\u001b[0m\u001b[1;33m(\u001b[0m\u001b[0mdata\u001b[0m\u001b[1;33m.\u001b[0m\u001b[0mindex\u001b[0m\u001b[1;33m)\u001b[0m\u001b[1;33m.\u001b[0m\u001b[0mreshape\u001b[0m\u001b[1;33m(\u001b[0m\u001b[1;33m-\u001b[0m\u001b[1;36m1\u001b[0m\u001b[1;33m,\u001b[0m \u001b[1;36m1\u001b[0m\u001b[1;33m)\u001b[0m\u001b[1;33m\u001b[0m\u001b[1;33m\u001b[0m\u001b[0m\n\u001b[0;32m      3\u001b[0m \u001b[0my\u001b[0m \u001b[1;33m=\u001b[0m \u001b[0mdata\u001b[0m\u001b[1;33m[\u001b[0m\u001b[1;34m'Close'\u001b[0m\u001b[1;33m]\u001b[0m\u001b[1;33m\u001b[0m\u001b[1;33m\u001b[0m\u001b[0m\n\u001b[0;32m      4\u001b[0m \u001b[1;33m\u001b[0m\u001b[0m\n\u001b[0;32m      5\u001b[0m \u001b[0mlinreg\u001b[0m \u001b[1;33m=\u001b[0m \u001b[0mLinearRegression\u001b[0m\u001b[1;33m(\u001b[0m\u001b[1;33m)\u001b[0m\u001b[1;33m.\u001b[0m\u001b[0mfit\u001b[0m\u001b[1;33m(\u001b[0m\u001b[0mx\u001b[0m\u001b[1;33m,\u001b[0m \u001b[0my\u001b[0m\u001b[1;33m)\u001b[0m\u001b[1;33m\u001b[0m\u001b[1;33m\u001b[0m\u001b[0m\n",
      "\u001b[1;32m~\\anaconda3\\lib\\site-packages\\pandas\\core\\frame.py\u001b[0m in \u001b[0;36mreset_index\u001b[1;34m(self, level, drop, inplace, col_level, col_fill)\u001b[0m\n\u001b[0;32m   4853\u001b[0m                 \u001b[1;31m# to ndarray and maybe infer different dtype\u001b[0m\u001b[1;33m\u001b[0m\u001b[1;33m\u001b[0m\u001b[1;33m\u001b[0m\u001b[0m\n\u001b[0;32m   4854\u001b[0m                 \u001b[0mlevel_values\u001b[0m \u001b[1;33m=\u001b[0m \u001b[0m_maybe_casted_values\u001b[0m\u001b[1;33m(\u001b[0m\u001b[0mlev\u001b[0m\u001b[1;33m,\u001b[0m \u001b[0mlab\u001b[0m\u001b[1;33m)\u001b[0m\u001b[1;33m\u001b[0m\u001b[1;33m\u001b[0m\u001b[0m\n\u001b[1;32m-> 4855\u001b[1;33m                 \u001b[0mnew_obj\u001b[0m\u001b[1;33m.\u001b[0m\u001b[0minsert\u001b[0m\u001b[1;33m(\u001b[0m\u001b[1;36m0\u001b[0m\u001b[1;33m,\u001b[0m \u001b[0mname\u001b[0m\u001b[1;33m,\u001b[0m \u001b[0mlevel_values\u001b[0m\u001b[1;33m)\u001b[0m\u001b[1;33m\u001b[0m\u001b[1;33m\u001b[0m\u001b[0m\n\u001b[0m\u001b[0;32m   4856\u001b[0m \u001b[1;33m\u001b[0m\u001b[0m\n\u001b[0;32m   4857\u001b[0m         \u001b[0mnew_obj\u001b[0m\u001b[1;33m.\u001b[0m\u001b[0mindex\u001b[0m \u001b[1;33m=\u001b[0m \u001b[0mnew_index\u001b[0m\u001b[1;33m\u001b[0m\u001b[1;33m\u001b[0m\u001b[0m\n",
      "\u001b[1;32m~\\anaconda3\\lib\\site-packages\\pandas\\core\\frame.py\u001b[0m in \u001b[0;36minsert\u001b[1;34m(self, loc, column, value, allow_duplicates)\u001b[0m\n\u001b[0;32m   3622\u001b[0m         \u001b[0mself\u001b[0m\u001b[1;33m.\u001b[0m\u001b[0m_ensure_valid_index\u001b[0m\u001b[1;33m(\u001b[0m\u001b[0mvalue\u001b[0m\u001b[1;33m)\u001b[0m\u001b[1;33m\u001b[0m\u001b[1;33m\u001b[0m\u001b[0m\n\u001b[0;32m   3623\u001b[0m         \u001b[0mvalue\u001b[0m \u001b[1;33m=\u001b[0m \u001b[0mself\u001b[0m\u001b[1;33m.\u001b[0m\u001b[0m_sanitize_column\u001b[0m\u001b[1;33m(\u001b[0m\u001b[0mcolumn\u001b[0m\u001b[1;33m,\u001b[0m \u001b[0mvalue\u001b[0m\u001b[1;33m,\u001b[0m \u001b[0mbroadcast\u001b[0m\u001b[1;33m=\u001b[0m\u001b[1;32mFalse\u001b[0m\u001b[1;33m)\u001b[0m\u001b[1;33m\u001b[0m\u001b[1;33m\u001b[0m\u001b[0m\n\u001b[1;32m-> 3624\u001b[1;33m         \u001b[0mself\u001b[0m\u001b[1;33m.\u001b[0m\u001b[0m_mgr\u001b[0m\u001b[1;33m.\u001b[0m\u001b[0minsert\u001b[0m\u001b[1;33m(\u001b[0m\u001b[0mloc\u001b[0m\u001b[1;33m,\u001b[0m \u001b[0mcolumn\u001b[0m\u001b[1;33m,\u001b[0m \u001b[0mvalue\u001b[0m\u001b[1;33m,\u001b[0m \u001b[0mallow_duplicates\u001b[0m\u001b[1;33m=\u001b[0m\u001b[0mallow_duplicates\u001b[0m\u001b[1;33m)\u001b[0m\u001b[1;33m\u001b[0m\u001b[1;33m\u001b[0m\u001b[0m\n\u001b[0m\u001b[0;32m   3625\u001b[0m \u001b[1;33m\u001b[0m\u001b[0m\n\u001b[0;32m   3626\u001b[0m     \u001b[1;32mdef\u001b[0m \u001b[0massign\u001b[0m\u001b[1;33m(\u001b[0m\u001b[0mself\u001b[0m\u001b[1;33m,\u001b[0m \u001b[1;33m**\u001b[0m\u001b[0mkwargs\u001b[0m\u001b[1;33m)\u001b[0m \u001b[1;33m->\u001b[0m \u001b[1;34m\"DataFrame\"\u001b[0m\u001b[1;33m:\u001b[0m\u001b[1;33m\u001b[0m\u001b[1;33m\u001b[0m\u001b[0m\n",
      "\u001b[1;32m~\\anaconda3\\lib\\site-packages\\pandas\\core\\internals\\managers.py\u001b[0m in \u001b[0;36minsert\u001b[1;34m(self, loc, item, value, allow_duplicates)\u001b[0m\n\u001b[0;32m   1175\u001b[0m         \u001b[1;32mif\u001b[0m \u001b[1;32mnot\u001b[0m \u001b[0mallow_duplicates\u001b[0m \u001b[1;32mand\u001b[0m \u001b[0mitem\u001b[0m \u001b[1;32min\u001b[0m \u001b[0mself\u001b[0m\u001b[1;33m.\u001b[0m\u001b[0mitems\u001b[0m\u001b[1;33m:\u001b[0m\u001b[1;33m\u001b[0m\u001b[1;33m\u001b[0m\u001b[0m\n\u001b[0;32m   1176\u001b[0m             \u001b[1;31m# Should this be a different kind of error??\u001b[0m\u001b[1;33m\u001b[0m\u001b[1;33m\u001b[0m\u001b[1;33m\u001b[0m\u001b[0m\n\u001b[1;32m-> 1177\u001b[1;33m             \u001b[1;32mraise\u001b[0m \u001b[0mValueError\u001b[0m\u001b[1;33m(\u001b[0m\u001b[1;34mf\"cannot insert {item}, already exists\"\u001b[0m\u001b[1;33m)\u001b[0m\u001b[1;33m\u001b[0m\u001b[1;33m\u001b[0m\u001b[0m\n\u001b[0m\u001b[0;32m   1178\u001b[0m \u001b[1;33m\u001b[0m\u001b[0m\n\u001b[0;32m   1179\u001b[0m         \u001b[1;32mif\u001b[0m \u001b[1;32mnot\u001b[0m \u001b[0misinstance\u001b[0m\u001b[1;33m(\u001b[0m\u001b[0mloc\u001b[0m\u001b[1;33m,\u001b[0m \u001b[0mint\u001b[0m\u001b[1;33m)\u001b[0m\u001b[1;33m:\u001b[0m\u001b[1;33m\u001b[0m\u001b[1;33m\u001b[0m\u001b[0m\n",
      "\u001b[1;31mValueError\u001b[0m: cannot insert level_0, already exists"
     ]
    }
   ],
   "source": [
    "data = data.reset_index()\n",
    "x = np.array(data.index).reshape(-1, 1)\n",
    "y = data['Close']\n",
    "\n",
    "linreg = LinearRegression().fit(x, y)\n",
    "linreg.score(x, y)\n",
    "predictions = linreg.predict(x)\n",
    "\n",
    "plt.figure(figsize=(15,5))\n",
    "plt.plot(data['Close'])\n",
    "plt.plot(data.index, predictions)"
   ]
  },
  {
   "cell_type": "code",
   "execution_count": 40,
   "metadata": {
    "ExecuteTime": {
     "end_time": "2021-05-04T15:06:10.614094Z",
     "start_time": "2021-05-04T15:06:10.396654Z"
    }
   },
   "outputs": [
    {
     "data": {
      "text/plain": [
       "[<matplotlib.lines.Line2D at 0x27ab5a12430>]"
      ]
     },
     "execution_count": 40,
     "metadata": {},
     "output_type": "execute_result"
    },
    {
     "data": {
      "image/png": "[encoded data removed]",
      "text/plain": [
       "<Figure size 432x288 with 1 Axes>"
      ]
     },
     "metadata": {},
     "output_type": "display_data"
    }
   ],
   "source": [
    "plt.plot(close_dataMSFT)\n",
    "plt.plot(close_dataMSFT.index, predictions)"
   ]
  },
  {
   "cell_type": "markdown",
   "metadata": {
    "id": "mJ8LSNhwpIYq"
   },
   "source": [
    "##Linear Regression optimization using polynomial"
   ]
  },
  {
   "cell_type": "code",
   "execution_count": 36,
   "metadata": {
    "ExecuteTime": {
     "end_time": "2021-05-04T15:00:25.911190Z",
     "start_time": "2021-05-04T15:00:25.549157Z"
    },
    "colab": {
     "base_uri": "https://localhost:8080/",
     "height": 370
    },
    "id": "ISUKIhBfw9EE",
    "outputId": "02ef4b16-0f93-495d-b333-f640e708ea83"
   },
   "outputs": [
    {
     "name": "stdout",
     "output_type": "stream",
     "text": [
      "Best degree 7 with R^2: 0.9654743603351985 and RMSE: 4.627528837420729\n"
     ]
    },
    {
     "data": {
      "image/png": "[encoded data removed]",
      "text/plain": [
       "<Figure size 1080x360 with 1 Axes>"
      ]
     },
     "metadata": {},
     "output_type": "display_data"
    }
   ],
   "source": [
    "rmses = []\n",
    "degrees = np.arange(1, 30)\n",
    "r2, min_deg, min_rmse = 0, 0, 1e10\n",
    "\n",
    "for deg in degrees:\n",
    "    poly_features = PolynomialFeatures(degree=deg, include_bias=False)\n",
    "    x_poly = poly_features.fit_transform(x)\n",
    "    poly_reg = LinearRegression()\n",
    "    poly_reg.fit(x_poly, y)\n",
    "    y_predict = poly_reg.predict(x_poly)\n",
    "    poly_mse = mean_squared_error(y, y_predict)\n",
    "    poly_rmse = np.sqrt(poly_mse)\n",
    "    poly_r2 = r2_score(y, y_predict)\n",
    "    #r2.append(poly_r2)\n",
    "    rmses.append(poly_rmse)\n",
    "    # Cross-validation of degree\n",
    "    if min_rmse > poly_rmse :\n",
    "        min_rmse = poly_rmse\n",
    "        r2 = poly_r2\n",
    "        min_deg = deg\n",
    "        p = y_predict\n",
    "print('Best degree {} with R^2: {} and RMSE: {}'.format(min_deg, r2, min_rmse))\n",
    "plt.figure(figsize=(15,5))\n",
    "plt.plot(data.index,y,label='Actual')\n",
    "plt.plot(data.index,p,label='Predict')\n",
    "plt.title('Degree {}\\n R^2:  '.format(min_deg)+ str(round(r2,5)))\n",
    "plt.legend()\n",
    "plt.show()"
   ]
  },
  {
   "cell_type": "markdown",
   "metadata": {
    "id": "ewxGY_BMPU1x"
   },
   "source": [
    "# Load data and data split function (train,test)"
   ]
  },
  {
   "cell_type": "code",
   "execution_count": null,
   "metadata": {
    "id": "0v7N3I5APcz0"
   },
   "outputs": [],
   "source": [
    "def data_load_and_train_test_split(company, start, end):\n",
    "  '''\n",
    "  Loads data from yfinance and splits into training, validation and testing sets\n",
    "\n",
    "  Creates variables: stock, train, val and test\n",
    "  '''\n",
    "  global stock, close_data, train, test\n",
    "\n",
    "  # load data and create a new index\n",
    "  stock = yf.download(company, start, end)\n",
    "  stock.reset_index(inplace=True)\n",
    "\n",
    "  # create dataframe of 'Date' and 'Close'\n",
    "  close_data = stock[['Date', 'Close']]\n",
    "\n",
    "  # create splits \n",
    "  train = close_data[close_data['Date']< datetime.datetime(2020,1,1)]\n",
    "  test = close_data[close_data['Date']> datetime.datetime(2020,1,1)]\n",
    "\n",
    "  # remove 'Date' column so we are left with the 'Close' data\n",
    "  close_data = close_data.filter(['Close'])\n",
    "  train = train.filter(['Close'])\n",
    "  test = test.filter(['Close'])\n",
    "\n",
    "  return print('Orignal data shape:', stock.shape, '\\n',\n",
    "               'Close Dataframe shape:', close_data.shape, '\\n',\n",
    "               'Training set shape:', train.shape, '\\n',\n",
    "               'Testing set shape:', test.shape)"
   ]
  },
  {
   "cell_type": "markdown",
   "metadata": {
    "id": "e6bS9AlXg4HV"
   },
   "source": [
    "# ARIMA"
   ]
  },
  {
   "cell_type": "code",
   "execution_count": null,
   "metadata": {
    "colab": {
     "base_uri": "https://localhost:8080/"
    },
    "id": "bwejAA1MYcoc",
    "outputId": "a769bfaa-0793-4642-d2a0-7a849ceffdda"
   },
   "outputs": [
    {
     "name": "stdout",
     "output_type": "stream",
     "text": [
      "\r",
      "[*********************100%***********************]  1 of 1 completed\n",
      "Orignal data shape: (1509, 7) \n",
      " Close Dataframe shape: (1509, 1) \n",
      " Training set shape: (1258, 1) \n",
      " Testing set shape: (251, 1)\n"
     ]
    }
   ],
   "source": [
    "#example\n",
    "company = 'MSFT'\n",
    "start = \"2015-01-01\"\n",
    "end=\"2020-12-30\"\n",
    "data_load_and_train_test_split(company,start,end)"
   ]
  },
  {
   "cell_type": "markdown",
   "metadata": {
    "id": "pyrmuc9897Kh"
   },
   "source": [
    "## num diff"
   ]
  },
  {
   "cell_type": "code",
   "execution_count": null,
   "metadata": {
    "id": "B7csvFMp97Uw"
   },
   "outputs": [],
   "source": [
    "# estimate the number of differencing.\n",
    "def num_diff(stock):\n",
    "  from pmdarima.arima.utils import ndiffs\n",
    "  from statsmodels.compat.pandas import Appender\n",
    "  kpss_diffs = ndiffs(stock, test='kpss')\n",
    "  adf_diffs = ndiffs(stock, test=\"adf\")\n",
    "  return max(adf_diffs, kpss_diffs)"
   ]
  },
  {
   "cell_type": "code",
   "execution_count": null,
   "metadata": {
    "id": "E3vDB_QN9-su"
   },
   "outputs": [],
   "source": [
    "#example\n",
    "n_diffs = num_diff(close_data)"
   ]
  },
  {
   "cell_type": "markdown",
   "metadata": {
    "id": "p3xe0aDuTA1Q"
   },
   "source": [
    "##check if stationary"
   ]
  },
  {
   "cell_type": "code",
   "execution_count": null,
   "metadata": {
    "colab": {
     "base_uri": "https://localhost:8080/",
     "height": 503
    },
    "id": "IPgWkSh5Ts4h",
    "outputId": "7301202c-3ed7-41cd-c038-dc62c84f714d"
   },
   "outputs": [
    {
     "data": {
      "image/png": "[encoded data removed]",
      "text/plain": [
       "<Figure size 1800x576 with 1 Axes>"
      ]
     },
     "metadata": {
      "tags": []
     },
     "output_type": "display_data"
    },
    {
     "name": "stdout",
     "output_type": "stream",
     "text": [
      "Results of dickey fuller test\n",
      "Test Statistics                   2.130161\n",
      "p-value                           0.998820\n",
      "No. of lags used                  8.000000\n",
      "Number of observations used    1249.000000\n",
      "critical value (1%)              -3.435596\n",
      "critical value (5%)              -2.863857\n",
      "critical value (10%)             -2.568004\n",
      "dtype: float64\n"
     ]
    }
   ],
   "source": [
    "def test_stationarity(timeseries):\n",
    "  '''\n",
    "  Performs test statistics. If test statistics is bigger \n",
    "  than critical value and p-value is bigger than 0.05\n",
    "  then this timeseries is not stationary\n",
    "  '''\n",
    " #Determing rolling statistics\n",
    "  rolmean = timeseries.rolling(12).mean()\n",
    "  rolstd = timeseries.rolling(12).std()\n",
    "\n",
    "  plt.plot(timeseries, color='blue',label='Original')\n",
    "  plt.plot(rolmean, color='red', label='Rolling Mean')\n",
    "  plt.plot(rolstd, color='black', label = 'Rolling Std')\n",
    "  plt.legend(loc='best')\n",
    "  plt.title('Rolling Mean and Standard Deviation')\n",
    "  plt.show(block=False)\n",
    "  \n",
    "\n",
    "  print('Results of dickey fuller test')\n",
    "  adft = adfuller(timeseries,autolag='AIC')\n",
    "  output = pd.Series(adft[0:4],index=['Test Statistics','p-value','No. of lags used','Number of observations used'])\n",
    "  for key,values in adft[4].items():\n",
    "    output['critical value (%s)'%key] = values\n",
    "  print(output)\n",
    " \n",
    "test_stationarity(train)"
   ]
  },
  {
   "cell_type": "code",
   "execution_count": null,
   "metadata": {
    "colab": {
     "base_uri": "https://localhost:8080/",
     "height": 206
    },
    "id": "LV1fyMMP3WCP",
    "outputId": "77c04c6b-b198-4a3f-a308-7a8a7096d372"
   },
   "outputs": [
    {
     "data": {
      "text/html": [
       "<div>\n",
       "<style scoped>\n",
       "    .dataframe tbody tr th:only-of-type {\n",
       "        vertical-align: middle;\n",
       "    }\n",
       "\n",
       "    .dataframe tbody tr th {\n",
       "        vertical-align: top;\n",
       "    }\n",
       "\n",
       "    .dataframe thead th {\n",
       "        text-align: right;\n",
       "    }\n",
       "</style>\n",
       "<table border=\"1\" class=\"dataframe\">\n",
       "  <thead>\n",
       "    <tr style=\"text-align: right;\">\n",
       "      <th></th>\n",
       "      <th>Close</th>\n",
       "    </tr>\n",
       "  </thead>\n",
       "  <tbody>\n",
       "    <tr>\n",
       "      <th>0</th>\n",
       "      <td>3.845028</td>\n",
       "    </tr>\n",
       "    <tr>\n",
       "      <th>1</th>\n",
       "      <td>3.835790</td>\n",
       "    </tr>\n",
       "    <tr>\n",
       "      <th>2</th>\n",
       "      <td>3.821004</td>\n",
       "    </tr>\n",
       "    <tr>\n",
       "      <th>3</th>\n",
       "      <td>3.833629</td>\n",
       "    </tr>\n",
       "    <tr>\n",
       "      <th>4</th>\n",
       "      <td>3.862623</td>\n",
       "    </tr>\n",
       "  </tbody>\n",
       "</table>\n",
       "</div>"
      ],
      "text/plain": [
       "      Close\n",
       "0  3.845028\n",
       "1  3.835790\n",
       "2  3.821004\n",
       "3  3.833629\n",
       "4  3.862623"
      ]
     },
     "execution_count": 72,
     "metadata": {
      "tags": []
     },
     "output_type": "execute_result"
    }
   ],
   "source": [
    "# Define train_log for seasonality removal\n",
    "\n",
    "train_log = train.apply(lambda x : np.log(x))\n",
    "\n",
    "train_log.head()"
   ]
  },
  {
   "cell_type": "code",
   "execution_count": null,
   "metadata": {
    "colab": {
     "base_uri": "https://localhost:8080/",
     "height": 504
    },
    "id": "2xq99x47UpTq",
    "outputId": "a888cff4-2f09-4d08-d7b7-adc465a796e8"
   },
   "outputs": [
    {
     "data": {
      "image/png": "[encoded data removed]",
      "text/plain": [
       "<Figure size 1800x576 with 1 Axes>"
      ]
     },
     "metadata": {
      "tags": []
     },
     "output_type": "display_data"
    },
    {
     "name": "stdout",
     "output_type": "stream",
     "text": [
      "Results of dickey fuller test\n",
      "Test Statistics               -1.502268e+01\n",
      "p-value                        1.016923e-27\n",
      "No. of lags used               7.000000e+00\n",
      "Number of observations used    1.249000e+03\n",
      "critical value (1%)           -3.435596e+00\n",
      "critical value (5%)           -2.863857e+00\n",
      "critical value (10%)          -2.568004e+00\n",
      "dtype: float64\n"
     ]
    }
   ],
   "source": [
    "# Remove seasonality\n",
    "train_log_diff = train - train.shift(n_diffs) \n",
    "test_stationarity(train_log_diff.dropna())"
   ]
  },
  {
   "cell_type": "markdown",
   "metadata": {
    "id": "pY31k-Yevbod"
   },
   "source": [
    "## auto arima\n",
    "\n",
    "In Auto ARIMA, the model itself will generate the optimal p, d, and q values which would be suitable for the data set to provide better forecasting\n",
    "\n",
    "https://towardsdatascience.com/time-series-forecasting-using-auto-arima-in-python-bb83e49210cd"
   ]
  },
  {
   "cell_type": "code",
   "execution_count": null,
   "metadata": {
    "id": "RWUCSLEEvb9z"
   },
   "outputs": [],
   "source": [
    "def arima_auto(stock):\n",
    "  from pmdarima.arima import auto_arima\n",
    "  global arima_model\n",
    "  arima_model = auto_arima(\n",
    "      stock,\n",
    "      start_p=0,\n",
    "      start_q=0,\n",
    "      test=\"adf\",\n",
    "      max_p=6,\n",
    "      max_q=6,\n",
    "      m=1,  # frequency of series\n",
    "      d=n_diffs, \n",
    "      seasonal=False,  # no seasonality\n",
    "      trace=True,\n",
    "      stepwise=True,\n",
    "      njob=-1,\n",
    "  )\n",
    "  print(arima_model.summary())\n",
    "  return arima_model"
   ]
  },
  {
   "cell_type": "code",
   "execution_count": null,
   "metadata": {
    "colab": {
     "base_uri": "https://localhost:8080/"
    },
    "id": "Nodj8qK0lWwa",
    "outputId": "0168ee12-4c1c-44b8-d09e-bb6078feecd3"
   },
   "outputs": [
    {
     "name": "stdout",
     "output_type": "stream",
     "text": [
      "Performing stepwise search to minimize aic\n",
      " ARIMA(0,1,0)(0,0,0)[0] intercept   : AIC=5060.539, Time=0.06 sec\n",
      " ARIMA(1,1,0)(0,0,0)[0] intercept   : AIC=4691.157, Time=0.12 sec\n",
      " ARIMA(0,1,1)(0,0,0)[0] intercept   : AIC=inf, Time=1.32 sec\n",
      " ARIMA(0,1,0)(0,0,0)[0]             : AIC=5058.539, Time=0.05 sec\n",
      " ARIMA(2,1,0)(0,0,0)[0] intercept   : AIC=4435.694, Time=0.26 sec\n",
      " ARIMA(3,1,0)(0,0,0)[0] intercept   : AIC=4365.022, Time=0.30 sec\n",
      " ARIMA(4,1,0)(0,0,0)[0] intercept   : AIC=4332.469, Time=0.46 sec\n",
      " ARIMA(5,1,0)(0,0,0)[0] intercept   : AIC=4286.883, Time=0.54 sec\n",
      " ARIMA(6,1,0)(0,0,0)[0] intercept   : AIC=4227.973, Time=0.72 sec\n"
     ]
    }
   ],
   "source": [
    "#example\n",
    "arima_model = arima_auto(train_log_diff.dropna())"
   ]
  },
  {
   "cell_type": "markdown",
   "metadata": {
    "id": "z_PyZ0qvvivP"
   },
   "source": [
    "## arima model fit"
   ]
  },
  {
   "cell_type": "code",
   "execution_count": null,
   "metadata": {
    "id": "BHBT3X5gDxNT"
   },
   "outputs": [],
   "source": [
    "test[0:1]"
   ]
  },
  {
   "cell_type": "code",
   "execution_count": null,
   "metadata": {
    "id": "1V-5rK2KpZOa"
   },
   "outputs": [],
   "source": [
    "import warnings\n",
    "warnings.filterwarnings('ignore', 'statsmodels.tsa.arima_model.ARMA',FutureWarning)\n",
    "warnings.filterwarnings('ignore', 'statsmodels.tsa.arima_model.ARIMA',FutureWarning)"
   ]
  },
  {
   "cell_type": "code",
   "execution_count": null,
   "metadata": {
    "id": "cBqaenjb760y"
   },
   "outputs": [],
   "source": [
    "#values\n",
    "train = train.values\n",
    "\n",
    "# Create list of x train values\n",
    "history = [x for x in train]\n",
    "# establish list for predictions\n",
    "model_predictions = []\n",
    "# Count number of test data points\n",
    "N_test_observations = len(test)\n",
    "\n",
    "# loop through every data point\n",
    "for time_point in list(test.index):\n",
    "    model = ARIMA(history, order=arima_model.order)\n",
    "    model_fit = model.fit(disp=0)\n",
    "    output = model_fit.forecast()\n",
    "    yhat = output[0]\n",
    "    model_predictions.append(yhat)\n",
    "    true_test_value = test[time_point-1258:time_point-1257]\n",
    "    history.append(true_test_value)"
   ]
  },
  {
   "cell_type": "code",
   "execution_count": null,
   "metadata": {
    "id": "tQcwoKrBrH9D"
   },
   "outputs": [],
   "source": [
    "RMSE_error = np.sqrt(mean_squared_error(test, model_predictions))\n",
    "print('Test Score: %.2f RMSE' % RMSE_error)"
   ]
  },
  {
   "cell_type": "code",
   "execution_count": null,
   "metadata": {
    "id": "iDLoAlyAIh-5"
   },
   "outputs": [],
   "source": [
    "plt.rcParams['figure.figsize'] = [10, 10]\n",
    "plt.plot(test.index[-100:], model_predictions[-100:], color='blue',label='Predicted Price')\n",
    "plt.plot(test.index[-100:], test[-100:], color='red', label='Actual Price')\n",
    "plt.title(company + ' Prices Prediction')\n",
    "plt.ylabel('Prices')\n",
    "plt.legend()\n",
    "plt.figure(figsize=(10,6))\n",
    "plt.show()"
   ]
  },
  {
   "cell_type": "code",
   "execution_count": null,
   "metadata": {
    "id": "lQNPJmp6i-Fh"
   },
   "outputs": [],
   "source": [
    "plt.plot(train, label='training data')\n",
    "plt.plot(test, label='actual price')\n",
    "plt.plot(test.index[-len(test):],model_predictions[-len(test):], label='predicted price')\n",
    "plt.ylabel('Price')\n",
    "plt.title(company + ' Prices Prediction')\n",
    "plt.legend(loc='upper left', fontsize=8)\n",
    "plt.show()"
   ]
  },
  {
   "cell_type": "code",
   "execution_count": null,
   "metadata": {
    "id": "12uCsiWuj97y"
   },
   "outputs": [],
   "source": [
    "import math\n",
    "import plotly.graph_objects as go\n",
    "from pylab import rcParams\n",
    "from sklearn.metrics import mean_absolute_error\n",
    "from sklearn.metrics import mean_squared_error\n",
    "rcParams['figure.figsize'] = 25, 8\n",
    "\n",
    "from statsmodels.tsa.seasonal import seasonal_decompose\n",
    "from statsmodels.tsa.arima_model import ARIMA\n",
    "\n",
    "valuessarima =close_data.values\n",
    "train = train.values\n",
    "test = test.values\n",
    "\n",
    "result = seasonal_decompose(valuessarima, model='multiplicative', freq=365)\n",
    "fig = result.plot()\n",
    "plt.show()\n"
   ]
  },
  {
   "cell_type": "code",
   "execution_count": null,
   "metadata": {
    "id": "NUzfAk1ckHCv"
   },
   "outputs": [],
   "source": [
    "history = [x for x in train]\n",
    "y = test\n",
    "\n",
    "# Make first prediction\n",
    "predictions = list()\n",
    "model = ARIMA(train, order=(0, 1, 0))\n",
    "model_fit = model.fit(disp=0)\n",
    "yhat = model_fit.forecast()[0][0]\n",
    "predictions.append(yhat)\n",
    "history.append(y[0])\n",
    "\n",
    "# Rolling forecasts\n",
    "for i in range(1, len(y)):\n",
    "     # Predict\n",
    "     model = ARIMA(train, order=(0, 1, 0))\n",
    "     model_fit = model.fit(disp=0)\n",
    "     yhat = model_fit.forecast()[0][0]\n",
    "     # Invert transformed prediction\n",
    "     predictions.append(yhat)\n",
    "     # Observation\n",
    "     obs = y[i]\n",
    "     history.append(obs)\n",
    "\n",
    "# Report performance\n",
    "mse = mean_squared_error(y, predictions)\n",
    "print('MSE: ' + str(mse))\n",
    "mae = mean_absolute_error(y, predictions)\n",
    "print('MAE: ' + str(mae))\n",
    "rmse = math.sqrt(mean_squared_error(y, predictions))\n",
    "print('RMSE: ' + str(rmse))"
   ]
  },
  {
   "cell_type": "code",
   "execution_count": null,
   "metadata": {
    "id": "XljDYUhlkvzr"
   },
   "outputs": [],
   "source": [
    "# Plotting ARIMA result\n",
    "fig = go.Figure()\n",
    "\n",
    "fig.add_trace(go.Scatter(x=train[-250:], y=train[250:], mode='lines', name='Price'))\n",
    "fig.add_trace(go.Scatter(x=test, y=test, mode='lines', name='Test price'))\n",
    "fig.add_trace(go.Scatter(x=test, y=predictions, mode='lines', name='Predicted price'))\n",
    "\n",
    "fig.update_layout(autosize=True, width=1450, height=825,\n",
    "    title_font=dict(size=25, family='Courier', color='crimson'),\n",
    "    title=\"ARIMA prediction - Close Price\",\n",
    ")\n",
    "\n",
    "fig.show()"
   ]
  },
  {
   "cell_type": "markdown",
   "metadata": {
    "id": "ISyJcFGcgzr3"
   },
   "source": [
    "# LSTM pre-processing \n",
    "\n",
    "same for all lstm models"
   ]
  },
  {
   "cell_type": "code",
   "execution_count": null,
   "metadata": {
    "id": "OjfKh8rso7Yn"
   },
   "outputs": [],
   "source": [
    "# functions used \n",
    "\n",
    "def supervised(data, num_timesteps=60, n_out = 1, dropnan = True):\n",
    "  '''\n",
    "  Converts time series into a supervised learning problem \n",
    "  '''\n",
    "  # make data into a dataframe \n",
    "  data = pd.DataFrame(data)\n",
    "  \n",
    "  n_variables = 1 # i.e. number of features in this case we have chosen 'Close' \n",
    "  columns, names = list(),list()\n",
    "\n",
    "  # input data\n",
    "  for i in range(num_timesteps, 0, -1):\n",
    "    columns.append(data.shift(i))\n",
    "    names += [('var%d(t-%d')%(j+1,i) for j in range(n_variables)]\n",
    "\n",
    "  # target data (forecast)\n",
    "  for i in range(0, n_out):\n",
    "    columns.append(data.shift(-i))\n",
    "    if i ==0:\n",
    "      names += [('var%d(t)' % (j+1)) for j in range(n_variables)]\n",
    "    else:\n",
    "      names += [('var%d(t+%d )' % (j+1, i)) for j in range(n_variables)]\n",
    "\n",
    "  # combine the two\n",
    "  df = pd.concat(columns, axis = 1)\n",
    "  df.columns = names\n",
    "\n",
    "  # drop missing data rows \n",
    "  if dropnan:\n",
    "    df.dropna(inplace = True)\n",
    "\n",
    "  return df\n"
   ]
  },
  {
   "cell_type": "code",
   "execution_count": null,
   "metadata": {
    "id": "gHVcV1nP9GBS"
   },
   "outputs": [],
   "source": [
    "#example\n",
    "train = supervised(train)\n",
    "train"
   ]
  },
  {
   "cell_type": "code",
   "execution_count": null,
   "metadata": {
    "id": "cY1MMz376uS8"
   },
   "outputs": [],
   "source": [
    "\n",
    "def split_and_reshape(data, num_timesteps=60, num_features=1):\n",
    "  '''\n",
    "  scales and reshapes data into required shape for LSTM in keras\n",
    "\n",
    "  '''\n",
    "\n",
    " # get data values \n",
    "  values = data.values\n",
    "\n",
    "  # split into x and y \n",
    "  X, y = values[:, :-1], values[:,-1]\n",
    "\n",
    "  # reshape into 3D form\n",
    "  X = np.reshape(X, (X.shape[0], num_timesteps, num_features ))\n",
    "\n",
    "  \n",
    "  print('X shape:',X.shape, '\\ny shape:', y.shape)\n",
    "\n",
    "  return X, y"
   ]
  },
  {
   "cell_type": "code",
   "execution_count": null,
   "metadata": {
    "id": "ECXfgvvcDPC3"
   },
   "outputs": [],
   "source": [
    "#example\n",
    "X_train, y_train = split_and_reshape(train)"
   ]
  },
  {
   "cell_type": "markdown",
   "metadata": {
    "id": "FugYqZPyiDKC"
   },
   "source": [
    "# LSTM  \n",
    "\n"
   ]
  },
  {
   "cell_type": "code",
   "execution_count": null,
   "metadata": {
    "id": "7dBSFsxo_T87"
   },
   "outputs": [],
   "source": [
    "# Define optimiser and callbacks for all LSTMs\n",
    "opt = Adam(0.0001)\n",
    "callbacks = [ EarlyStopping(monitor='val_loss', mode='min', patience=10)]\n",
    "\n",
    "#  Define Scaler \n",
    "scaler = MinMaxScaler(feature_range = (0,1))"
   ]
  },
  {
   "cell_type": "code",
   "execution_count": null,
   "metadata": {
    "id": "BG2mvfJXPeQz"
   },
   "outputs": [],
   "source": [
    "# Uses the same preprocessing as LSTM\n",
    "#Example\n",
    "company = 'AAPL'\n",
    "start = \"2015-01-01\"\n",
    "end=\"2020-12-30\"\n",
    "data_load_and_split(company,start,end)"
   ]
  },
  {
   "cell_type": "code",
   "execution_count": null,
   "metadata": {
    "id": "F2ggA4ijAjrM"
   },
   "outputs": [],
   "source": [
    "# Plotting performance \n",
    "# https://github.com/gcarq/keras-timeseries-prediction/blob/master/main.py\n",
    "def plot_data(dataset: np.ndarray,\n",
    "              company: str,\n",
    "              measure: str,\n",
    "              timestep: int,\n",
    "              model_type:str,\n",
    "              train_predict: np.ndarray,\n",
    "              test_predict: np.ndarray,\n",
    "              val_predict: np.ndarray):\n",
    "             # forecast_predict=: np.ndarray):\n",
    "    \"\"\"\n",
    "    Plots baseline and predictions\n",
    "    Leaves gaps for the first time steps necessary for predictions\n",
    "    light grey: baseline\n",
    "    dashed black: prediction with training data\n",
    "    dashed blue: prediction with test data\n",
    "    dashed green: prediction based on predictions\n",
    "    :param dataset: initial dataset\n",
    "    :param company: name of company on the stock market,\n",
    "    :param measure: names of measure studied,\n",
    "    :param timestep: number of time steps necessary for prediction\n",
    "    :param train_predict: predicted values based on training data\n",
    "    :param test_predict: predicted values based on test data\n",
    "    :param forecast_predict: predicted values based on previous predictions, default empty, \n",
    "    :return: None\n",
    "    \"\"\"\n",
    "    plt.plot(dataset, color='lightgrey')\n",
    "    plt.plot( [None for _ in range(timestep)] +\n",
    "             [x for x in train_predict], '--', color='black')\n",
    "    plt.plot([None for _ in range(timestep)] +\n",
    "             # added for dimensionality, as length of train, val, and test sets \n",
    "             # does not include the first 'timesteps' for its predictions  \n",
    "             [None for _ in range(timestep)] +\n",
    "             [None for _ in train_predict] +\n",
    "             [x for x in val_predict], '--', color='royalblue')\n",
    "    plt.plot([None for _ in range(timestep)] +\n",
    "             # added for dimensionality, as length of train, val, and test sets \n",
    "             # does not include the first 'timesteps' for its predictions  \n",
    "             [None for _ in range(timestep)] + \n",
    "             [None for _ in train_predict] +\n",
    "             # added for dimensionality, as length of train, val, and test sets \n",
    "             # does not include the first 'timesteps' for its predictions  \n",
    "             [None for _ in range(timestep)] +\n",
    "             [None for _ in val_predict] +\n",
    "             [x for x in test_predict], '--', color='green')\n",
    "    \n",
    "\n",
    "    plt.title(f'{company} Stock Price Prediction using {model_type}')\n",
    "    plt.xlabel('Time')\n",
    "    plt.ylabel(f'{company} Stock Price')\n",
    "    plt.legend(['dataset', 'train predict', 'train predict + val predict','train + val + test predict'])\n",
    "    plt.show()"
   ]
  },
  {
   "cell_type": "code",
   "execution_count": null,
   "metadata": {
    "id": "W22QUCUcPhvF"
   },
   "outputs": [],
   "source": [
    "#create training data\n",
    "train_scaled = scaler.fit_transform(train)\n",
    "train_supervised = supervised(train_scaled)\n",
    "X_train, y_train = split_and_reshape(train_supervised)\n",
    "\n",
    "# create validation data\n",
    "val_scaled = scaler.fit_transform(val) \n",
    "val_supervised = supervised(val_scaled)\n",
    "X_val, y_val = split_and_reshape(val_supervised)\n",
    "\n",
    "# create test data\n",
    "test_scaled = scaler.transform(test) # transform not fit_transform\n",
    "test_supervised = supervised(test_scaled)\n",
    "X_test, y_test = split_and_reshape(test_supervised)"
   ]
  },
  {
   "cell_type": "code",
   "execution_count": null,
   "metadata": {
    "id": "7qxvEkeHlQHo"
   },
   "outputs": [],
   "source": [
    "\n",
    "# test values for num_units \n",
    "#num_units = 50 \n",
    "num_units = 128\n",
    "#LSTM implementaiton\n",
    "regressor = Sequential()\n",
    "regressor.add(LSTM(units = num_units , return_sequences = True, input_shape = (X_train.shape[1], 1)))\n",
    "regressor.add(Dropout(0.2))\n",
    "regressor.add(LSTM(units = num_units , return_sequences = True))\n",
    "regressor.add(Dropout(0.2))\n",
    "regressor.add(LSTM(units = num_units , return_sequences = True))\n",
    "regressor.add(Dropout(0.2))\n",
    "regressor.add(LSTM(units = num_units ))\n",
    "regressor.add(Dropout(0.2))\n",
    "regressor.add(Dense(units = 1))\n",
    "\n",
    "regressor.compile(optimizer=opt, metrics=['mse', 'mae'], loss='mean_squared_error')\n",
    "plot_model(regressor, to_file='model_plot.png', show_shapes=True, show_layer_names=True)\n"
   ]
  },
  {
   "cell_type": "code",
   "execution_count": null,
   "metadata": {
    "id": "MwlVnd9M3lPu"
   },
   "outputs": [],
   "source": [
    "# model summary and fit\n",
    "regressor.summary()\n",
    "\n",
    "history = regressor.fit(X_train, y_train, callbacks=callbacks, validation_data=(X_val,y_val),  epochs = 300, batch_size = 32)"
   ]
  },
  {
   "cell_type": "code",
   "execution_count": null,
   "metadata": {
    "id": "eZ94phxzUlVz"
   },
   "outputs": [],
   "source": [
    "\n"
   ]
  },
  {
   "cell_type": "code",
   "execution_count": null,
   "metadata": {
    "id": "4ZdtFCm3Uss0"
   },
   "outputs": [],
   "source": [
    "def get_predictions(model, X_train, X_val, X_test):\n",
    "  '''\n",
    "  Feeds data into pre-trained model and returns predictions\n",
    "    :param model: compiled and trained model to be used for predictions\n",
    "    :param X_train: training dataset X\n",
    "    :param X_val: validation dataset X\n",
    "    :param X_test: test dataset X\n",
    "    :return:  train_predict: predictictions for training data\n",
    "              test_predict: predictions for test data\n",
    "              val_predict: predictions for validation data\n",
    "  '''\n",
    "  train_predict = model.predict(X_train)\n",
    "  val_predict = model.predict(X_val)\n",
    "  test_predict = model.predict(X_test)\n",
    "  \n",
    "  return train_predict, val_predict, test_predict\n",
    "\n",
    "\n",
    "def evaluate_model(model, X_train, y_train, X_val, y_val, X_test, y_test):\n",
    "  '''\n",
    "  Obtain predictions, invert data and predictions, calculate metrics for evaluation\n",
    "    :param model: compiled and trained model to be used for predictions\n",
    "    :param X_train: training dataset X\n",
    "    :param y_train: training dataset Y\n",
    "    :param X_val: validation dataset X\n",
    "    :param y_val: validation dataset y\n",
    "    :param X_test: test dataset X\n",
    "    :param y_test: test dataset y\n",
    "  '''\n",
    "  train_predict = model.predict(X_train)\n",
    "  test_predict = model.predict(X_test)\n",
    "  val_predict = model.predict(X_val)\n",
    "  # invert dataset and predictions\n",
    "  train_predict = scaler.inverse_transform(train_predict)\n",
    "  train_y = scaler.inverse_transform([y_train])\n",
    "  test_predict = scaler.inverse_transform(test_predict)\n",
    "  test_y = scaler.inverse_transform([y_test])\n",
    "  val_predict = scaler.inverse_transform(val_predict)\n",
    "  val_y = scaler.inverse_transform([y_val])\n",
    "\n",
    "  #forecast_predict = scaler.inverse_transform(forecast_predict)\n",
    "  train_score = np.sqrt(mean_squared_error(train_y[0], train_predict[:, 0]))\n",
    "  print('Train Score: %.2f RMSE' % train_score)\n",
    "  test_score = np.sqrt(mean_squared_error(test_y[0], test_predict[:, 0]))\n",
    "  print('Test Score: %.2f RMSE' % test_score)"
   ]
  },
  {
   "cell_type": "code",
   "execution_count": null,
   "metadata": {
    "id": "zC0H2skCWA_c"
   },
   "outputs": [],
   "source": [
    "#need to include validation \n",
    "plot_data(close_data, companies=['AAPL'], timesteps=60, train_predict=train_predict,test_predict=test_predict,val_predict=val_predict)"
   ]
  },
  {
   "cell_type": "markdown",
   "metadata": {
    "id": "P1LYxhLRg2IG"
   },
   "source": [
    "# Stacked LSTM"
   ]
  },
  {
   "cell_type": "code",
   "execution_count": null,
   "metadata": {
    "id": "kRCs8RsnXelI"
   },
   "outputs": [],
   "source": [
    "# Uses the same preprocessing as LSTM\n",
    "#Example\n",
    "company = 'AAPL'\n",
    "start = \"2015-01-01\"\n",
    "end=\"2020-12-30\"\n",
    "\n",
    "#load data \n",
    "data_load_and_split(company,start,end)"
   ]
  },
  {
   "cell_type": "code",
   "execution_count": null,
   "metadata": {
    "id": "G7xSPgOgJKDg"
   },
   "outputs": [],
   "source": [
    "# Scaling data \n",
    "from sklearn.preprocessing import MinMaxScaler\n",
    "scaler = MinMaxScaler(feature_range = (0,1))\n",
    "\n",
    "#create training data\n",
    "train_scaled = scaler.fit_transform(train)\n",
    "train_supervised = supervised(train_scaled)\n",
    "X_train, y_train = split_and_reshape(train_supervised)\n",
    "\n",
    "# create validation data\n",
    "val_scaled = scaler.fit_transform(val) \n",
    "val_supervised = supervised(val_scaled)\n",
    "X_val, y_val = split_and_reshape(val_supervised)\n",
    "\n",
    "# create test data\n",
    "test_scaled = scaler.transform(test) # transform not fit_transform\n",
    "test_supervised = supervised(test_scaled)\n",
    "X_test, y_test = split_and_reshape(test_supervised)"
   ]
  },
  {
   "cell_type": "code",
   "execution_count": null,
   "metadata": {
    "id": "O318IY_RqZrH"
   },
   "outputs": [],
   "source": [
    "# Create the stacked lstm model\n",
    "model = Sequential()\n",
    "model.add(LSTM(50, return_sequences=True,  input_shape=(X_train.shape[1], X_train.shape[2])))\n",
    "model.add(LSTM(50, return_sequences=True))\n",
    "model.add(LSTM(50))\n",
    "model.add(Dense(1))\n",
    "model.compile(loss='mae', optimizer=opt, metrics=[ 'mse', 'mae'])\n",
    "plot_model(regressor, to_file='model_plot.png', show_shapes=True, show_layer_names=True)"
   ]
  },
  {
   "cell_type": "code",
   "execution_count": null,
   "metadata": {
    "id": "SxAoglM_rwA3"
   },
   "outputs": [],
   "source": [
    "# model summary and fit\n",
    "model.summary()\n",
    "history = model.fit(X_train,y_train, callbacks=callbacksvalidation_data=(X_val,y_val), epochs=100,batch_size=64,verbose=1)"
   ]
  },
  {
   "cell_type": "code",
   "execution_count": null,
   "metadata": {
    "id": "atw56VX4rzxx"
   },
   "outputs": [],
   "source": [
    "# plot training history\n",
    "plt.plot(history.history['loss'], label='train')\n",
    "plt.plot(history.history['val_loss'], label='test')\n",
    "plt.title('loss ')\n",
    "plt.legend()\n",
    "plt.show()"
   ]
  },
  {
   "cell_type": "code",
   "execution_count": null,
   "metadata": {
    "id": "P9_-PCVEr2Ue"
   },
   "outputs": [],
   "source": [
    "#predictions and check performance metrics\n",
    "train_predict = model.predict(X_train)\n",
    "test_predict = model.predict(X_test)\n",
    "val_predict = model.predict(X_val)\n",
    "\n",
    "# invert dataset and predictions\n",
    "train_predict = scaler.inverse_transform(train_predict)\n",
    "train_y = scaler.inverse_transform([y_train])\n",
    "test_predict = scaler.inverse_transform(test_predict)\n",
    "test_y = scaler.inverse_transform([y_test])\n",
    "val_predict = scaler.inverse_transform(val_predict)\n",
    "val_y = scaler.inverse_transform([y_val])\n",
    "\n",
    "#forecast_predict = scaler.inverse_transform(forecast_predict)\n",
    "train_score = np.sqrt(mean_squared_error(train_y[0], train_predict[:, 0]))\n",
    "print('Train Score: %.2f RMSE' % train_score)\n",
    "test_score = np.sqrt(mean_squared_error(test_y[0], test_predict[:, 0]))\n",
    "print('Test Score: %.2f RMSE' % test_score)"
   ]
  },
  {
   "cell_type": "code",
   "execution_count": null,
   "metadata": {
    "id": "_wllb0kQYIzz"
   },
   "outputs": [],
   "source": [
    "plot_data(close_data,look_back=60,train_predict=train_predict,test_predict=test_predict, val_predict=val_predict)"
   ]
  },
  {
   "cell_type": "code",
   "execution_count": null,
   "metadata": {
    "id": "HbyCYETWr8iB"
   },
   "outputs": [],
   "source": [
    "#show actual and predicted price\n",
    "plt.plot(inv_y,  label = company + ' actual close')\n",
    "plt.plot(inv_test,  label = 'predicted')\n",
    "plt.xlabel('Day')\n",
    "plt.ylabel('Price')\n",
    "plt.legend()\n",
    "plt.show()"
   ]
  },
  {
   "cell_type": "code",
   "execution_count": null,
   "metadata": {
    "id": "r2AYkigur_UP"
   },
   "outputs": [],
   "source": [
    "plt.plot(inv_y[:100], label = company + ' actual close')\n",
    "plt.plot(inv_test[:100], label = 'predicted')\n",
    "plt.xlabel('Day')\n",
    "plt.ylabel('Price')\n",
    "plt.legend()\n",
    "plt.show()"
   ]
  },
  {
   "cell_type": "markdown",
   "metadata": {
    "id": "-5KSVtb6g6sJ"
   },
   "source": [
    "# Attention-Based LSTM"
   ]
  },
  {
   "cell_type": "code",
   "execution_count": null,
   "metadata": {
    "id": "hVU6Nn7-YO_E"
   },
   "outputs": [],
   "source": [
    "data_load_and_split(company,start,end)"
   ]
  },
  {
   "cell_type": "code",
   "execution_count": null,
   "metadata": {
    "id": "W2RtKGbIYjTl"
   },
   "outputs": [],
   "source": [
    "close_data"
   ]
  }
 ],
 "metadata": {
  "colab": {
   "collapsed_sections": [],
   "name": "Full example.ipynb",
   "provenance": [],
   "toc_visible": true
  },
  "kernelspec": {
   "display_name": "Python 3",
   "language": "python",
   "name": "python3"
  },
  "language_info": {
   "codemirror_mode": {
    "name": "ipython",
    "version": 3
   },
   "file_extension": ".py",
   "mimetype": "text/x-python",
   "name": "python",
   "nbconvert_exporter": "python",
   "pygments_lexer": "ipython3",
   "version": "3.8.5"
  },
  "toc": {
   "base_numbering": 1,
   "nav_menu": {},
   "number_sections": true,
   "sideBar": true,
   "skip_h1_title": false,
   "title_cell": "Table of Contents",
   "title_sidebar": "Contents",
   "toc_cell": false,
   "toc_position": {},
   "toc_section_display": true,
   "toc_window_display": false
  },
  "varInspector": {
   "cols": {
    "lenName": 16,
    "lenType": 16,
    "lenVar": 40
   },
   "kernels_config": {
    "python": {
     "delete_cmd_postfix": "",
     "delete_cmd_prefix": "del ",
     "library": "var_list.py",
     "varRefreshCmd": "print(var_dic_list())"
    },
    "r": {
     "delete_cmd_postfix": ") ",
     "delete_cmd_prefix": "rm(",
     "library": "var_list.r",
     "varRefreshCmd": "cat(var_dic_list()) "
    }
   },
   "types_to_exclude": [
    "module",
    "function",
    "builtin_function_or_method",
    "instance",
    "_Feature"
   ],
   "window_display": false
  }
 },
 "nbformat": 4,
 "nbformat_minor": 1
}
